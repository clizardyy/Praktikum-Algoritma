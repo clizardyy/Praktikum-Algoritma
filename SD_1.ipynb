{
  "nbformat": 4,
  "nbformat_minor": 0,
  "metadata": {
    "colab": {
      "provenance": [],
      "authorship_tag": "ABX9TyPzDouj/3j8k8lEp+bzirmR",
      "include_colab_link": true
    },
    "kernelspec": {
      "name": "python3",
      "display_name": "Python 3"
    },
    "language_info": {
      "name": "python"
    }
  },
  "cells": [
    {
      "cell_type": "markdown",
      "metadata": {
        "id": "view-in-github",
        "colab_type": "text"
      },
      "source": [
        "<a href=\"https://colab.research.google.com/github/clizardyy/Praktikum-Algoritma/blob/master/SD_1.ipynb\" target=\"_parent\"><img src=\"https://colab.research.google.com/assets/colab-badge.svg\" alt=\"Open In Colab\"/></a>"
      ]
    },
    {
      "cell_type": "code",
      "execution_count": 1,
      "metadata": {
        "id": "sy0Z_vzhKz3z",
        "colab": {
          "base_uri": "https://localhost:8080/"
        },
        "outputId": "5fb0f551-e215-4e0e-d199-f66a94230995"
      },
      "outputs": [
        {
          "output_type": "stream",
          "name": "stdout",
          "text": [
            "isi array NPM [2420506032, 2420506033, 2420506034, 2420506035, 2420506036]\n"
          ]
        }
      ],
      "source": [
        "# latihan 1\n",
        "data = []\n",
        "NPM = [2420506032, 2420506033, 2420506034, 2420506035, 2420506036]\n",
        "print(\"isi array NPM\", NPM)"
      ]
    }
  ]
}