{
  "nbformat": 4,
  "nbformat_minor": 0,
  "metadata": {
    "colab": {
      "provenance": [],
      "authorship_tag": "ABX9TyMahi41AjHENAOKYBsoLyw8",
      "include_colab_link": true
    },
    "kernelspec": {
      "name": "python3",
      "display_name": "Python 3"
    },
    "language_info": {
      "name": "python"
    }
  },
  "cells": [
    {
      "cell_type": "markdown",
      "metadata": {
        "id": "view-in-github",
        "colab_type": "text"
      },
      "source": [
        "<a href=\"https://colab.research.google.com/github/clizardyy/Praktikum-Algoritma/blob/master/LapUTS_2420506032.ipynb\" target=\"_parent\"><img src=\"https://colab.research.google.com/assets/colab-badge.svg\" alt=\"Open In Colab\"/></a>"
      ]
    },
    {
      "cell_type": "code",
      "execution_count": null,
      "metadata": {
        "id": "GGyjDc5MXzSp",
        "colab": {
          "base_uri": "https://localhost:8080/"
        },
        "outputId": "db3665d5-6f0c-4a9f-ff4b-899d54ac8b2d"
      },
      "outputs": [
        {
          "output_type": "stream",
          "name": "stdout",
          "text": [
            "Masukkan NPM Anda: 2420506032\n",
            "NPM Anda adalah: 2420506032\n",
            "Jumlah digit NPM Anda adalah: 10\n",
            "Digit terakhir NPM Anda adalah genap\n",
            "Jumlah Bilangan Ganjil NPM Anda adalah: True\n",
            "Jumlah Bilangan Genap NPM Anda adalah: False\n"
          ]
        }
      ],
      "source": [
        "# Masukkan NPM input dari user\n",
        "npm = input(\"Masukkan NPM Anda: \")\n",
        "\n",
        "# Tampilkan NPM yang telah dimasukkan\n",
        "print(\"NPM Anda adalah: \" + npm)\n",
        "\n",
        "# Hitung jumlah digit NPM\n",
        "jumlah_digit = len(npm)\n",
        "\n",
        "# Tampilkan jumlah digit NPM\n",
        "print(\"Jumlah digit NPM Anda adalah: \" + str(jumlah_digit))\n",
        "\n",
        "# Ambil digit terakhir dari NPM tersebut\n",
        "last_digit = int(npm[-1])\n",
        "\n",
        "# Cek digit terakhir termasuk golongan bilangan apa\n",
        "if last_digit % 2 == 0:\n",
        "    print(\"Digit terakhir NPM Anda adalah genap\")\n",
        "else:\n",
        "    print(\"Digit terakhir NPM Anda adalah ganjil\")\n",
        "\n",
        "# Tampilkan jumlah bilangan ganjil dan genap\n",
        "dua_digit_terakhir = npm[-2:] # extract the last two digits\n",
        "print(\"Jumlah Bilangan Ganjil NPM Anda adalah: \" + str(last_digit in [2, 4, 6, 8]))\n",
        "print(\"Jumlah Bilangan Genap NPM Anda adalah: \" + str(last_digit not in [2, 4, 6, 8]))"
      ]
    },
    {
      "cell_type": "code",
      "source": [
        "Pembahasan Soal Pertama\n",
        "Program dari soal pertama bertujuan untuk menghitung jumlah antara bilangan ganjil dan genap dalam sebuah NPM. Program ini menggunakan sebuah fungsi jumlah_bilangan yang mengambil data dari NPM yang diinputkan dan mengembalikan hasil hitungan bilangan ganjil dan genap. Fungsi ini memeriksa setiap angka dalam NPM, memeriksa apakah angka tersebut genap atau ganjil, dan menambahkan ke variabel yang sesuai, kemudian memanggil fungsi untuk mencetak hasilnya."
      ],
      "metadata": {
        "id": "Rqu0RIO2rWnD"
      },
      "execution_count": null,
      "outputs": []
    },
    {
      "cell_type": "code",
      "source": [
        "n = int(input(\"Masukkan baris segitiga Pascal yang diinginkan: \"))\n",
        "\n",
        "jumlah = 0\n",
        "k = 1\n",
        "for i in range(n):\n",
        "    jumlah += k\n",
        "    print(k, end=' ')\n",
        "    k = k * (n - i) // (i + 1)\n",
        "\n",
        "print(\"Jumlah elemen pada baris ke-\", n, \"adalah:\", jumlah)"
      ],
      "metadata": {
        "colab": {
          "base_uri": "https://localhost:8080/"
        },
        "id": "woh48XFHkxy5",
        "outputId": "1d6b8917-2961-4eb1-bdd1-788417fb7640"
      },
      "execution_count": null,
      "outputs": [
        {
          "output_type": "stream",
          "name": "stdout",
          "text": [
            "Masukkan baris segitiga Pascal yang diinginkan: 10\n",
            "1 10 45 120 210 252 210 120 45 10 Jumlah elemen pada baris ke- 10 adalah: 1023\n"
          ]
        }
      ]
    },
    {
      "cell_type": "code",
      "source": [
        "Pembahasan Soal Kedua\n",
        "Program dari soal kedua bertujuan untuk mencetak segitiga angka yang setiap barisnya berisi hasil perkalian antara baris dan kolom. Program ini mendapatkan jumlah baris dari data yang diinputkan dan kemudian menggunakan loop bersarang untuk mengulangi proses pada setiap baris dan kolom. Pada setiap perulangan, program mencetak hasil perkalian baris dan kolom, dan pindah ke baris berikutnya setelah setiap baris sesuai dengan jumlah baris yang sudah diinputkan sebelumnya."
      ],
      "metadata": {
        "id": "ScC35D6nrXSx"
      },
      "execution_count": null,
      "outputs": []
    }
  ]
}