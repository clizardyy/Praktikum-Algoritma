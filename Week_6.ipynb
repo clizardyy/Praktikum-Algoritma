{
  "nbformat": 4,
  "nbformat_minor": 0,
  "metadata": {
    "colab": {
      "provenance": [],
      "authorship_tag": "ABX9TyNGLqWAdV5pN6QA/VWyyR4W",
      "include_colab_link": true
    },
    "kernelspec": {
      "name": "python3",
      "display_name": "Python 3"
    },
    "language_info": {
      "name": "python"
    }
  },
  "cells": [
    {
      "cell_type": "markdown",
      "metadata": {
        "id": "view-in-github",
        "colab_type": "text"
      },
      "source": [
        "<a href=\"https://colab.research.google.com/github/clizardyy/Praktikum-Algoritma/blob/master/Week_6.ipynb\" target=\"_parent\"><img src=\"https://colab.research.google.com/assets/colab-badge.svg\" alt=\"Open In Colab\"/></a>"
      ]
    },
    {
      "cell_type": "code",
      "execution_count": null,
      "metadata": {
        "colab": {
          "base_uri": "https://localhost:8080/"
        },
        "id": "VgUs7ki1nKW0",
        "outputId": "bdc74fb8-2158-404e-aa16-c83c3d984f99"
      },
      "outputs": [
        {
          "output_type": "execute_result",
          "data": {
            "text/plain": [
              "range(0, 3)"
            ]
          },
          "metadata": {},
          "execution_count": 1
        }
      ],
      "source": [
        "# Use the range\n",
        "\n",
        "range(3)"
      ]
    },
    {
      "cell_type": "code",
      "source": [
        "# For loop example\n",
        "\n",
        "dates = [1982,1980,1973]\n",
        "N = len(dates)\n",
        "\n",
        "for i in range(N):\n",
        "    print(dates[i])"
      ],
      "metadata": {
        "colab": {
          "base_uri": "https://localhost:8080/"
        },
        "id": "GbxtnX2AnuyO",
        "outputId": "2813143d-0735-4b59-de3a-432ea9e40241"
      },
      "execution_count": null,
      "outputs": [
        {
          "output_type": "stream",
          "name": "stdout",
          "text": [
            "1982\n",
            "1980\n",
            "1973\n"
          ]
        }
      ]
    },
    {
      "cell_type": "code",
      "source": [
        "# Example of for loop\n",
        "\n",
        "for i in range(-2, 8):\n",
        "    print(i)"
      ],
      "metadata": {
        "colab": {
          "base_uri": "https://localhost:8080/"
        },
        "id": "VfCPOpg3n-yw",
        "outputId": "0c3a1b8b-c2e4-4957-b8e8-1c4d7a7ac8cc"
      },
      "execution_count": null,
      "outputs": [
        {
          "output_type": "stream",
          "name": "stdout",
          "text": [
            "-2\n",
            "-1\n",
            "0\n",
            "1\n",
            "2\n",
            "3\n",
            "4\n",
            "5\n",
            "6\n",
            "7\n"
          ]
        }
      ]
    },
    {
      "cell_type": "code",
      "source": [
        "# Example of for loop, loop through list\n",
        "\n",
        "for year in dates:\n",
        "    print(year)"
      ],
      "metadata": {
        "colab": {
          "base_uri": "https://localhost:8080/"
        },
        "id": "gB4fClmQoUdb",
        "outputId": "33598d52-5c19-4735-e06f-4623d4bb524e"
      },
      "execution_count": null,
      "outputs": [
        {
          "output_type": "stream",
          "name": "stdout",
          "text": [
            "1982\n",
            "1980\n",
            "1973\n"
          ]
        }
      ]
    },
    {
      "cell_type": "code",
      "source": [
        "# Use for loop to change the elements in list\n",
        "\n",
        "squares = ['red', 'yellow', 'green', 'purple', 'blue']\n",
        "\n",
        "for i in range(0, 5):\n",
        "    print(\"Before square \", i, 'is',  squares[i])\n",
        "    squares[i] = 'weight'\n",
        "    print(\"After square \", i, 'is',  squares[i])"
      ],
      "metadata": {
        "colab": {
          "base_uri": "https://localhost:8080/"
        },
        "id": "cgmDXwExooMz",
        "outputId": "8b8c3ce8-0119-4e2d-fbd6-1ce4cfa79af0"
      },
      "execution_count": null,
      "outputs": [
        {
          "output_type": "stream",
          "name": "stdout",
          "text": [
            "Before square  0 is red\n",
            "After square  0 is weight\n",
            "Before square  1 is yellow\n",
            "After square  1 is weight\n",
            "Before square  2 is green\n",
            "After square  2 is weight\n",
            "Before square  3 is purple\n",
            "After square  3 is weight\n",
            "Before square  4 is blue\n",
            "After square  4 is weight\n"
          ]
        }
      ]
    },
    {
      "cell_type": "code",
      "source": [
        "# Loop through the list and iterate on both index and element value\n",
        "\n",
        "squares=['red', 'yellow', 'green', 'purple', 'blue']\n",
        "\n",
        "for i, square in enumerate(squares):\n",
        "    print(i, square)"
      ],
      "metadata": {
        "colab": {
          "base_uri": "https://localhost:8080/"
        },
        "id": "nWV45VGAo3OV",
        "outputId": "049fed17-517f-45aa-c7fa-8cf130dab5e6"
      },
      "execution_count": null,
      "outputs": [
        {
          "output_type": "stream",
          "name": "stdout",
          "text": [
            "0 red\n",
            "1 yellow\n",
            "2 green\n",
            "3 purple\n",
            "4 blue\n"
          ]
        }
      ]
    },
    {
      "cell_type": "code",
      "source": [
        "# While Loop Example\n",
        "\n",
        "dates = [1982, 1980.1973, 2000]\n",
        "\n",
        "i = 0\n",
        "year = 0\n",
        "\n",
        "while(year != 1973 and i < len(dates)):\n",
        "    year = dates[i]\n",
        "    i = i + 1\n",
        "    print(year)\n",
        "\n",
        "print(\"It took \", i ,\"repetitions to get out of loop.\")"
      ],
      "metadata": {
        "colab": {
          "base_uri": "https://localhost:8080/"
        },
        "id": "9kb6io6cpEjT",
        "outputId": "e98da02f-10fa-4881-8d19-ac9c2439ca44"
      },
      "execution_count": null,
      "outputs": [
        {
          "output_type": "stream",
          "name": "stdout",
          "text": [
            "1982\n",
            "1980.1973\n",
            "2000\n",
            "It took  3 repetitions to get out of loop.\n"
          ]
        }
      ]
    },
    {
      "cell_type": "code",
      "source": [
        "# outer loop\n",
        "for i in range (1, 11):\n",
        "    # nested loop\n",
        "    # to iterate from 1 to 10\n",
        "    for j in range(1, 11):\n",
        "        # print multiplication\n",
        "        print(i * j, end=' ')\n",
        "    print()"
      ],
      "metadata": {
        "colab": {
          "base_uri": "https://localhost:8080/"
        },
        "id": "JHJhKuckpkgN",
        "outputId": "32789ec9-0469-4911-9322-50f919c392e2"
      },
      "execution_count": null,
      "outputs": [
        {
          "output_type": "stream",
          "name": "stdout",
          "text": [
            "1 2 3 4 5 6 7 8 9 10 \n",
            "2 4 6 8 10 12 14 16 18 20 \n",
            "3 6 9 12 15 18 21 24 27 30 \n",
            "4 8 12 16 20 24 28 32 36 40 \n",
            "5 10 15 20 25 30 35 40 45 50 \n",
            "6 12 18 24 30 36 42 48 54 60 \n",
            "7 14 21 28 35 42 49 56 63 70 \n",
            "8 16 24 32 40 48 56 64 72 80 \n",
            "9 18 27 36 45 54 63 72 81 90 \n",
            "10 20 30 40 50 60 70 80 90 100 \n"
          ]
        }
      ]
    },
    {
      "cell_type": "code",
      "source": [
        "names = ['Kelly', 'Jessa', 'Emma']\n",
        "# outer loop\n",
        "for name in names:\n",
        "    count = 0\n",
        "    # inner while loop\n",
        "    while count < 5:\n",
        "        print(name, end=' ')\n",
        "        # increment counter\n",
        "        count = count + 1\n",
        "    print()"
      ],
      "metadata": {
        "colab": {
          "base_uri": "https://localhost:8080/"
        },
        "id": "0X8T23NMp24o",
        "outputId": "d862f15b-8adc-4f11-e705-7ab64d26d79b"
      },
      "execution_count": null,
      "outputs": [
        {
          "output_type": "stream",
          "name": "stdout",
          "text": [
            "Kelly Kelly Kelly Kelly Kelly \n",
            "Jessa Jessa Jessa Jessa Jessa \n",
            "Emma Emma Emma Emma Emma \n"
          ]
        }
      ]
    },
    {
      "cell_type": "code",
      "source": [
        "for i in range(4):\n",
        "    for j in range(4):\n",
        "        if j == i:\n",
        "            break\n",
        "        print(i, j)"
      ],
      "metadata": {
        "colab": {
          "base_uri": "https://localhost:8080/"
        },
        "id": "tFmAP5sWqIGS",
        "outputId": "9263bd17-af28-4561-8f9b-0082a812d301"
      },
      "execution_count": null,
      "outputs": [
        {
          "output_type": "stream",
          "name": "stdout",
          "text": [
            "1 0\n",
            "2 0\n",
            "2 1\n",
            "3 0\n",
            "3 1\n",
            "3 2\n"
          ]
        }
      ]
    },
    {
      "cell_type": "code",
      "source": [
        "first = [2, 4, 6]\n",
        "second = [2, 4, 6]\n",
        "for i in first:\n",
        "    for j in second:\n",
        "        if i == j:\n",
        "            continue\n",
        "        print(i, '*', j, '=', i * j)"
      ],
      "metadata": {
        "colab": {
          "base_uri": "https://localhost:8080/"
        },
        "id": "OANx8iOiqRWD",
        "outputId": "2b090022-c477-46f9-f253-3730a545e414"
      },
      "execution_count": null,
      "outputs": [
        {
          "output_type": "stream",
          "name": "stdout",
          "text": [
            "2 * 4 = 8\n",
            "2 * 6 = 12\n",
            "4 * 2 = 8\n",
            "4 * 6 = 24\n",
            "6 * 2 = 12\n",
            "6 * 4 = 24\n"
          ]
        }
      ]
    },
    {
      "cell_type": "code",
      "source": [
        "i = 1\n",
        "while i <= 5:\n",
        "    j = 1\n",
        "    while j <= 10:\n",
        "        print(j, end='')\n",
        "        j = j + 1\n",
        "    i = i + 1\n",
        "    print()"
      ],
      "metadata": {
        "colab": {
          "base_uri": "https://localhost:8080/"
        },
        "id": "SRSFbuZWqeB6",
        "outputId": "2064e9da-3d3f-4462-8eaa-087bc4be2f25"
      },
      "execution_count": null,
      "outputs": [
        {
          "output_type": "stream",
          "name": "stdout",
          "text": [
            "12345678910\n",
            "12345678910\n",
            "12345678910\n",
            "12345678910\n",
            "12345678910\n"
          ]
        }
      ]
    },
    {
      "cell_type": "code",
      "source": [
        "print('Show Perfect Number from 1 to 100')\n",
        "n = 2\n",
        "# outer while loop\n",
        "while n <= 100:\n",
        "    x_sum = 0\n",
        "    # inner while loop\n",
        "    for i in range(1,n):\n",
        "        if n % i == 0:\n",
        "            x_sum += i\n",
        "    if x_sum == n:\n",
        "        print('Perfect number:', n)\n",
        "    n += 1"
      ],
      "metadata": {
        "colab": {
          "base_uri": "https://localhost:8080/"
        },
        "id": "bBipgyPpq0kV",
        "outputId": "b33640a1-da70-4a92-d323-e2ae35e5c519"
      },
      "execution_count": null,
      "outputs": [
        {
          "output_type": "stream",
          "name": "stdout",
          "text": [
            "Show Perfect Number from 1 to 100\n",
            "Perfect number: 6\n",
            "Perfect number: 28\n"
          ]
        }
      ]
    },
    {
      "cell_type": "code",
      "source": [
        "# Quiz Pertama\n",
        "for i in range(5, 10):\n",
        "    print(i, \"\\n\")"
      ],
      "metadata": {
        "colab": {
          "base_uri": "https://localhost:8080/"
        },
        "id": "lRPPkZdYrkV5",
        "outputId": "6762afea-d5e1-4d77-b989-d0c528221895"
      },
      "execution_count": null,
      "outputs": [
        {
          "output_type": "stream",
          "name": "stdout",
          "text": [
            "5 \n",
            "\n",
            "6 \n",
            "\n",
            "7 \n",
            "\n",
            "8 \n",
            "\n",
            "9 \n",
            "\n"
          ]
        }
      ]
    },
    {
      "cell_type": "code",
      "source": [
        "# Quiz Kedua\n",
        "Genres = ['rock', 'R&B', 'Soundtrack', 'R&B', 'soul', 'pop']\n",
        "\n",
        "for genre in Genres:\n",
        "    print(\"-Genre lagu\", genre, \"\\n\")"
      ],
      "metadata": {
        "colab": {
          "base_uri": "https://localhost:8080/"
        },
        "id": "uRFhSPe_roNA",
        "outputId": "22c04218-d0ec-45a7-f11a-844042905dd6"
      },
      "execution_count": null,
      "outputs": [
        {
          "output_type": "stream",
          "name": "stdout",
          "text": [
            "-Genre lagu rock \n",
            "\n",
            "-Genre lagu R&B \n",
            "\n",
            "-Genre lagu Soundtrack \n",
            "\n",
            "-Genre lagu R&B \n",
            "\n",
            "-Genre lagu soul \n",
            "\n",
            "-Genre lagu pop \n",
            "\n"
          ]
        }
      ]
    },
    {
      "cell_type": "code",
      "source": [
        "# Quiz Ketiga\n",
        "squares=['merah', 'kuning', 'hijau', 'ungu', 'biru']\n",
        "\n",
        "for square in squares:\n",
        "    print(\"-Persegi warna\", square, \"\\n\")"
      ],
      "metadata": {
        "colab": {
          "base_uri": "https://localhost:8080/"
        },
        "id": "s8MSRCcwruqF",
        "outputId": "3265bf91-122f-4a35-c899-0f7a1804d626"
      },
      "execution_count": null,
      "outputs": [
        {
          "output_type": "stream",
          "name": "stdout",
          "text": [
            "-Persegi warna merah \n",
            "\n",
            "-Persegi warna kuning \n",
            "\n",
            "-Persegi warna hijau \n",
            "\n",
            "-Persegi warna ungu \n",
            "\n",
            "-Persegi warna biru \n",
            "\n"
          ]
        }
      ]
    },
    {
      "cell_type": "code",
      "source": [
        "# Latihan Pertama\n",
        "print(\"membuat segitiga bintang\")\n",
        "n = int(input(\"Masukkan angka: \"))\n",
        "\n",
        "for i in range(n):\n",
        "    print(\" \" * (n - i - 1) + \"* \" * (i + 1))"
      ],
      "metadata": {
        "colab": {
          "base_uri": "https://localhost:8080/"
        },
        "id": "qfcfcF-8r1qm",
        "outputId": "7e277fd9-2795-428c-c172-033cc1f3b0dd"
      },
      "execution_count": null,
      "outputs": [
        {
          "output_type": "stream",
          "name": "stdout",
          "text": [
            "membuat segitiga bintang\n",
            "Masukkan angka: 7\n",
            "      * \n",
            "     * * \n",
            "    * * * \n",
            "   * * * * \n",
            "  * * * * * \n",
            " * * * * * * \n",
            "* * * * * * * \n"
          ]
        }
      ]
    },
    {
      "cell_type": "code",
      "source": [
        "# Latihan Kedua\n",
        "print('\\nMembuat segitiga pascal')\n",
        "def segitiga_pascal(n):\n",
        "    segitiga = [[1 for _ in range(i+1)] for i in range(n)]\n",
        "    for i in range(2, n):\n",
        "        for j in range(1, i):\n",
        "            segitiga[i][j] = segitiga[i-1][j-1] + segitiga[i-1][j]\n",
        "    return segitiga\n",
        "\n",
        "n = int(input(\"Masukkan jumlah baris: \"))\n",
        "pascal_segitiga = segitiga_pascal(n)\n",
        "\n",
        "for i, row in enumerate(pascal_segitiga):\n",
        "    print(' ' * (n - i - 1) + ' '.join(str(num) for num in row))"
      ],
      "metadata": {
        "colab": {
          "base_uri": "https://localhost:8080/"
        },
        "id": "Tjy-o_8Dr554",
        "outputId": "d8aeedc3-a4c1-418b-8290-3d3f2c046872"
      },
      "execution_count": null,
      "outputs": [
        {
          "output_type": "stream",
          "name": "stdout",
          "text": [
            "\n",
            "Membuat segitiga pascal\n",
            "Masukkan jumlah baris: 5\n",
            "    1\n",
            "   1 1\n",
            "  1 2 1\n",
            " 1 3 3 1\n",
            "1 4 6 4 1\n"
          ]
        }
      ]
    },
    {
      "cell_type": "code",
      "source": [
        "# Latihan Ketiga\n",
        "print(\"\\nMembuat segitiga pascal dan penjumlahan semua nilai baris\")\n",
        "def segitiga_pascal(n):\n",
        "    segitiga = [[1 for _ in range(i+1)] for i in range(n)]\n",
        "    for i in range(2, n):\n",
        "        for j in range(1, i):\n",
        "            segitiga[i][j] = segitiga[i-1][j-1] + segitiga[i-1][j]\n",
        "    return segitiga\n",
        "\n",
        "def penjumlahan_baris(segitiga):\n",
        "    return [sum(row) for row in segitiga]\n",
        "\n",
        "n = int(input(\"Masukkan jumlah baris: \"))\n",
        "pascal_segitiga = segitiga_pascal(n)\n",
        "\n",
        "for i, row in enumerate(pascal_segitiga):\n",
        "    print(' ' * (n - i - 1) + ' '.join(str(num) for num in row))\n",
        "\n",
        "print(\"\\nPenjumlahan Angka Berdasarkan Baris:\")\n",
        "for i, row_sum in enumerate(penjumlahan_baris(pascal_segitiga)):\n",
        "    print(f\"Baris {i+1}: {row_sum}\")"
      ],
      "metadata": {
        "colab": {
          "base_uri": "https://localhost:8080/"
        },
        "id": "1wFWI7HIr9WQ",
        "outputId": "1c9db28c-2eac-4aed-ae22-5aaa959588a6"
      },
      "execution_count": null,
      "outputs": [
        {
          "output_type": "stream",
          "name": "stdout",
          "text": [
            "\n",
            "Membuat segitiga pascal dan penjumlahan semua nilai baris\n",
            "Masukkan jumlah baris: 6\n",
            "     1\n",
            "    1 1\n",
            "   1 2 1\n",
            "  1 3 3 1\n",
            " 1 4 6 4 1\n",
            "1 5 10 10 5 1\n",
            "\n",
            "Penjumlahan Angka Berdasarkan Baris:\n",
            "Baris 1: 1\n",
            "Baris 2: 2\n",
            "Baris 3: 4\n",
            "Baris 4: 8\n",
            "Baris 5: 16\n",
            "Baris 6: 32\n"
          ]
        }
      ]
    }
  ]
}