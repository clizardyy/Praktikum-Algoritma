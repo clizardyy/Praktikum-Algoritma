{
  "nbformat": 4,
  "nbformat_minor": 0,
  "metadata": {
    "colab": {
      "provenance": [],
      "authorship_tag": "ABX9TyMu/hCnxBTRuLMKLCdEBULZ",
      "include_colab_link": true
    },
    "kernelspec": {
      "name": "python3",
      "display_name": "Python 3"
    },
    "language_info": {
      "name": "python"
    }
  },
  "cells": [
    {
      "cell_type": "markdown",
      "metadata": {
        "id": "view-in-github",
        "colab_type": "text"
      },
      "source": [
        "<a href=\"https://colab.research.google.com/github/clizardyy/Praktikum-Algoritma/blob/master/Week_5.ipynb\" target=\"_parent\"><img src=\"https://colab.research.google.com/assets/colab-badge.svg\" alt=\"Open In Colab\"/></a>"
      ]
    },
    {
      "cell_type": "code",
      "execution_count": null,
      "metadata": {
        "colab": {
          "base_uri": "https://localhost:8080/"
        },
        "id": "qOZnsffIci3d",
        "outputId": "231e4e5b-7e3a-4daa-9d3b-38ffbbcad759"
      },
      "outputs": [
        {
          "output_type": "stream",
          "name": "stdout",
          "text": [
            "The number is positive.\n"
          ]
        }
      ],
      "source": [
        "num = 5\n",
        "if num > 0:\n",
        "    print(\"The number is positive.\")\n",
        "else:\n",
        "    if num < 0:\n",
        "        print(\"The number is negative.\")\n",
        "    else:\n",
        "        print(\"The number is zero.\")"
      ]
    },
    {
      "cell_type": "code",
      "source": [
        "# example 2 : Age classifier\n",
        "age = 35\n",
        "if age >= 60:\n",
        "    print(\"You are a senior citizen\")\n",
        "else:\n",
        "    if age >= 18:\n",
        "        print(\"You are Adult\")\n",
        "    else:\n",
        "        print(\"You are teenager\")"
      ],
      "metadata": {
        "colab": {
          "base_uri": "https://localhost:8080/"
        },
        "id": "YrVpATI2dCNa",
        "outputId": "3f666b67-aeab-4a73-bee5-1ea91b52c535"
      },
      "execution_count": null,
      "outputs": [
        {
          "output_type": "stream",
          "name": "stdout",
          "text": [
            "You are Adult\n"
          ]
        }
      ]
    },
    {
      "cell_type": "code",
      "source": [
        "# Week Exercise 1\n",
        "\n",
        "# Masukkan input dari user\n",
        "tahun = int(input(\"Masukkan tahun: \"))\n",
        "\n",
        "# Tentukan apakah tahun kabisat atau bukan\n",
        "if (tahun % 4 == 0 and tahun % 100 != 0) or (tahun % 400 == 0):\n",
        "    hasil = \"Tahun Kabisat\"\n",
        "else:\n",
        "    hasil = \"Bukan Tahun Kabisat\"\n",
        "\n",
        "# Print hasilnya\n",
        "print(f\"{tahun} adalah {hasil}\")"
      ],
      "metadata": {
        "colab": {
          "base_uri": "https://localhost:8080/"
        },
        "id": "avR10lt3bVR7",
        "outputId": "3147a44e-f458-411a-bcb7-3cbebb54a6ad"
      },
      "execution_count": 3,
      "outputs": [
        {
          "output_type": "stream",
          "name": "stdout",
          "text": [
            "Masukkan tahun: 2015\n",
            "2015 adalah Bukan Tahun Kabisat\n"
          ]
        }
      ]
    },
    {
      "cell_type": "code",
      "source": [
        "# Week Exercise 2\n",
        "\n",
        "# Masukkan input tiga angka dari user\n",
        "angka1 = int(input(\"Masukkan angka pertama: \"))\n",
        "angka2 = int(input(\"Masukkan angka kedua: \"))\n",
        "angka3 = int(input(\"Masukkan angka ketiga: \"))\n",
        "\n",
        "# Tampilkan angka yang telah diinputkan\n",
        "print(f\"Angka pertama: {angka1}\")\n",
        "print(f\"Angka kedua: {angka2}\")\n",
        "print(f\"Angka ketiga: {angka3}\")\n",
        "\n",
        "# Mencari angka terbesar\n",
        "if angka1 >= angka2 and angka1 >= angka3:\n",
        "    terbesar = angka1\n",
        "elif angka2 >= angka1 and angka2 >= angka3:\n",
        "    terbesar = angka2\n",
        "else:\n",
        "    terbesar = angka3\n",
        "\n",
        "# Print angka terbesar\n",
        "print(f\"Angka terbesar adalah: {terbesar}\")"
      ],
      "metadata": {
        "colab": {
          "base_uri": "https://localhost:8080/"
        },
        "id": "_esc93qydqhO",
        "outputId": "7f78c7b5-5a81-41ff-8d89-877579cc10a9"
      },
      "execution_count": 5,
      "outputs": [
        {
          "output_type": "stream",
          "name": "stdout",
          "text": [
            "Masukkan angka pertama: 67\n",
            "Masukkan angka kedua: 90\n",
            "Masukkan angka ketiga: 43\n",
            "Angka pertama: 67\n",
            "Angka kedua: 90\n",
            "Angka ketiga: 43\n",
            "Angka terbesar adalah: 90\n"
          ]
        }
      ]
    },
    {
      "cell_type": "code",
      "source": [
        "# Week Exercise 3\n",
        "\n",
        "total_belanja = int(input(\"Masukkan total belanja: \"))\n",
        "jenis_konsumen = input(\"Jenis konsumen (member/non-member): \")\n",
        "\n",
        "# Hitung diskon dari total belanja\n",
        "if total_belanja > 200000:\n",
        "  diskon = 0.04  # Diskon 4%\n",
        "elif total_belanja > 100000:\n",
        "  diskon = 0.03  # Diskon 3%\n",
        "else:\n",
        "  diskon = 0  # Tidak ada diskon\n",
        "\n",
        "# Hitung tambahan diskon untuk member\n",
        "if jenis_konsumen.lower() == \"member\":\n",
        "  diskon += 0.02  # Tambahan diskon 2%\n",
        "\n",
        "# Hitung jumlah yang harus dibayarkan\n",
        "jumlah_dibayar = total_belanja * (1 - diskon)\n",
        "\n",
        "# Print hasil perhitungan\n",
        "print(f\"Total belanja: {total_belanja}\")\n",
        "print(f\"Diskon: {diskon*100:.0f}%\")\n",
        "print(f\"Jumlah yang harus dibayarkan: {jumlah_dibayar}\")"
      ],
      "metadata": {
        "colab": {
          "base_uri": "https://localhost:8080/"
        },
        "id": "h5bDgxnKe24X",
        "outputId": "82e4909b-a9f3-418a-b604-9f1831ab5768"
      },
      "execution_count": 7,
      "outputs": [
        {
          "output_type": "stream",
          "name": "stdout",
          "text": [
            "Masukkan total belanja: 275000\n",
            "Jenis konsumen (member/non-member): member\n",
            "Total belanja: 275000\n",
            "Diskon: 6%\n",
            "Jumlah yang harus dibayarkan: 258499.99999999997\n"
          ]
        }
      ]
    },
    {
      "cell_type": "code",
      "source": [
        "# Week Exercise 4\n",
        "\n",
        "def untuk_user():\n",
        "  Fungsi untuk membuat user baru dengan validasi input.\n",
        "\n",
        "  while True:\n",
        "    username = input(\"Masukkan username: \")\n",
        "    email = input(\"Masukkan email: \")\n",
        "    password = input(\"Masukkan password: \")\n",
        "\n",
        "    # Validasi input\n",
        "    if not username:\n",
        "      print(\"Username tidak boleh kosong.\")\n",
        "    elif \"@\" not in email:\n",
        "      print(\"Alamat email tidak valid. Harus mengandung '@'.\")\n",
        "    elif len(password) <= 8:\n",
        "      print(\"Password minimal harus 8 karakter.\")\n",
        "    else:\n",
        "      print(\"User berhasil dibuat!\")\n",
        "      # Simpan data user (contoh)\n",
        "      with open(\"users.txt\", \"a\") as f:\n",
        "        f.write(f\"Username: {username}, Email: {email}, Password: {password}\\n\")\n",
        "      break\n",
        "\n",
        "untuk_user()"
      ],
      "metadata": {
        "colab": {
          "base_uri": "https://localhost:8080/"
        },
        "id": "THdML4zVfkxm",
        "outputId": "8752ec4c-10ad-4b56-b379-b2a8916d13c0"
      },
      "execution_count": 8,
      "outputs": [
        {
          "output_type": "stream",
          "name": "stdout",
          "text": [
            "Masukkan username: ronald\n",
            "Masukkan email: ronaldzunibachtiar@gmail.com\n",
            "Masukkan password: ronaldrzb\n",
            "User berhasil dibuat!\n"
          ]
        }
      ]
    },
    {
      "cell_type": "code",
      "source": [
        "# Write your code below and press Shift+Enter to execute\n",
        "first = input(\"Enter first number: \")\n",
        "second = input(\"Enter second number: \")\n",
        "third = input(\"Enter third number: \")\n",
        "\n",
        "if first == \"admin\":\n",
        "if password == \"password\":\n",
        "        print(\"Login successful! Welcome, admin.\")\n",
        "    elif password == \"12345\":\n",
        "        print(\"Weak password. Please reset your password.\")\n",
        "    else:\n",
        "        print(\"Incorrect password. Please try again.\")\n",
        "else:\n",
        "    if username == \"guest\":\n",
        "        if password == \"guest\":\n",
        "            print(\"Login successful! Welcome, guest.\")\n",
        "        else:\n",
        "            print(\"Incorrect password. Please try again.\")\n",
        "    else:\n",
        "        print(\"Unknown user. Please try again.\")"
      ],
      "metadata": {
        "colab": {
          "base_uri": "https://localhost:8080/"
        },
        "id": "lo_RPQBBh7dT",
        "outputId": "2b7c4187-1845-4431-fefa-e1080eae8368"
      },
      "execution_count": null,
      "outputs": [
        {
          "output_type": "stream",
          "name": "stdout",
          "text": [
            "Enter your username: guest\n",
            "Enter your password: guest\n",
            "Login successful! Welcome, guest.\n"
          ]
        }
      ]
    }
  ]
}