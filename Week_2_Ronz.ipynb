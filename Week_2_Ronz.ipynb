{
  "nbformat": 4,
  "nbformat_minor": 0,
  "metadata": {
    "colab": {
      "provenance": [],
      "authorship_tag": "ABX9TyNIxyGrVIx/6Q0XN/GIKGwv",
      "include_colab_link": true
    },
    "kernelspec": {
      "name": "python3",
      "display_name": "Python 3"
    },
    "language_info": {
      "name": "python"
    }
  },
  "cells": [
    {
      "cell_type": "markdown",
      "metadata": {
        "id": "view-in-github",
        "colab_type": "text"
      },
      "source": [
        "<a href=\"https://colab.research.google.com/github/clizardyy/Praktikum-Algoritma/blob/master/Week_2_Ronz.ipynb\" target=\"_parent\"><img src=\"https://colab.research.google.com/assets/colab-badge.svg\" alt=\"Open In Colab\"/></a>"
      ]
    },
    {
      "cell_type": "code",
      "execution_count": null,
      "metadata": {
        "colab": {
          "base_uri": "https://localhost:8080/"
        },
        "id": "3fu3De8_DebE",
        "outputId": "9ddd9986-09d4-4f07-fe8b-13e57dff0bd5"
      },
      "outputs": [
        {
          "output_type": "execute_result",
          "data": {
            "text/plain": [
              "11"
            ]
          },
          "metadata": {},
          "execution_count": 1
        }
      ],
      "source": [
        "# Integer\n",
        "11"
      ]
    },
    {
      "cell_type": "code",
      "source": [
        "# String\n",
        "\n",
        "#print(\"Hello, Python 102!\")\n",
        "#print(\"Hello, Python 101!\")\n",
        "\n",
        "\"Hello, Python 102!\"\n",
        "#\"Hello, Python 101!\""
      ],
      "metadata": {
        "colab": {
          "base_uri": "https://localhost:8080/",
          "height": 35
        },
        "id": "cacxed9NDtgv",
        "outputId": "3039a8b9-fffb-4680-c058-d3f8cdd12903"
      },
      "execution_count": null,
      "outputs": [
        {
          "output_type": "execute_result",
          "data": {
            "text/plain": [
              "'Hello, Python 102!'"
            ],
            "application/vnd.google.colaboratory.intrinsic+json": {
              "type": "string"
            }
          },
          "metadata": {},
          "execution_count": 4
        }
      ]
    },
    {
      "cell_type": "code",
      "source": [
        "# Type of 12\n",
        "\n",
        "type(12)"
      ],
      "metadata": {
        "colab": {
          "base_uri": "https://localhost:8080/"
        },
        "id": "ZpB178U8GAbe",
        "outputId": "db94bcc3-e26d-4a1b-8fae-c401e8798ec6"
      },
      "execution_count": null,
      "outputs": [
        {
          "output_type": "execute_result",
          "data": {
            "text/plain": [
              "int"
            ]
          },
          "metadata": {},
          "execution_count": 5
        }
      ]
    },
    {
      "cell_type": "code",
      "source": [
        "# Type of 2.14\n",
        "\n",
        "type(2.14)"
      ],
      "metadata": {
        "colab": {
          "base_uri": "https://localhost:8080/"
        },
        "id": "a3JrsidgGInp",
        "outputId": "7e233641-e770-4ff2-ac04-a0782ae22951"
      },
      "execution_count": null,
      "outputs": [
        {
          "output_type": "execute_result",
          "data": {
            "text/plain": [
              "float"
            ]
          },
          "metadata": {},
          "execution_count": 6
        }
      ]
    },
    {
      "cell_type": "code",
      "source": [
        "# Type of \"Hello, Python 101!\"\n",
        "\n",
        "type(\"Hello, Python 101!\")"
      ],
      "metadata": {
        "colab": {
          "base_uri": "https://localhost:8080/"
        },
        "id": "HBbPyfDuGRAg",
        "outputId": "6dc51d1e-c10f-4918-e61e-8bd73dd0ff70"
      },
      "execution_count": null,
      "outputs": [
        {
          "output_type": "execute_result",
          "data": {
            "text/plain": [
              "str"
            ]
          },
          "metadata": {},
          "execution_count": 7
        }
      ]
    },
    {
      "cell_type": "code",
      "source": [
        "# Write your code below, Don't forget to press Shift+Enter to execute the cell\n",
        "type(12.0)"
      ],
      "metadata": {
        "colab": {
          "base_uri": "https://localhost:8080/"
        },
        "id": "JermzCZQGo7b",
        "outputId": "7fae8804-582f-4d43-94c4-f05d0a55e4bd"
      },
      "execution_count": null,
      "outputs": [
        {
          "output_type": "execute_result",
          "data": {
            "text/plain": [
              "float"
            ]
          },
          "metadata": {},
          "execution_count": 8
        }
      ]
    },
    {
      "cell_type": "code",
      "source": [
        "# Print the type of -1\n",
        "\n",
        "type(-1)"
      ],
      "metadata": {
        "colab": {
          "base_uri": "https://localhost:8080/"
        },
        "id": "MDOB-vxoG-9o",
        "outputId": "4be16a99-b1bf-4be9-fdbd-323d559907d7"
      },
      "execution_count": null,
      "outputs": [
        {
          "output_type": "execute_result",
          "data": {
            "text/plain": [
              "int"
            ]
          },
          "metadata": {},
          "execution_count": 9
        }
      ]
    },
    {
      "cell_type": "code",
      "source": [
        "type (-6)"
      ],
      "metadata": {
        "colab": {
          "base_uri": "https://localhost:8080/"
        },
        "id": "rMbbt06HHKer",
        "outputId": "00d8424f-ebf8-4a91-9597-d1fc7182a55f"
      },
      "execution_count": null,
      "outputs": [
        {
          "output_type": "execute_result",
          "data": {
            "text/plain": [
              "int"
            ]
          },
          "metadata": {},
          "execution_count": 10
        }
      ]
    },
    {
      "cell_type": "code",
      "source": [
        "# Print the type of 4\n",
        "\n",
        "type(4)"
      ],
      "metadata": {
        "colab": {
          "base_uri": "https://localhost:8080/"
        },
        "id": "czPDwiqtHRKj",
        "outputId": "94dcd150-b373-4786-a83a-6a67747de0d6"
      },
      "execution_count": null,
      "outputs": [
        {
          "output_type": "execute_result",
          "data": {
            "text/plain": [
              "int"
            ]
          },
          "metadata": {},
          "execution_count": 11
        }
      ]
    },
    {
      "cell_type": "code",
      "source": [
        "# Print the type of 0\n",
        "\n",
        "type(0)"
      ],
      "metadata": {
        "colab": {
          "base_uri": "https://localhost:8080/"
        },
        "id": "zUwhvuCXHS1v",
        "outputId": "762480a2-1d2b-41c5-e395-a3ccc1852120"
      },
      "execution_count": null,
      "outputs": [
        {
          "output_type": "execute_result",
          "data": {
            "text/plain": [
              "int"
            ]
          },
          "metadata": {},
          "execution_count": 12
        }
      ]
    },
    {
      "cell_type": "code",
      "source": [
        "# Print the type of 1.0\n",
        "\n",
        "type(1.0) # Notice that 1 is an int, and 1.0 is a float"
      ],
      "metadata": {
        "colab": {
          "base_uri": "https://localhost:8080/"
        },
        "id": "vBe1i6YHHXud",
        "outputId": "542589a1-b884-4c7e-ee7b-d2d9f536406b"
      },
      "execution_count": null,
      "outputs": [
        {
          "output_type": "execute_result",
          "data": {
            "text/plain": [
              "float"
            ]
          },
          "metadata": {},
          "execution_count": 13
        }
      ]
    },
    {
      "cell_type": "code",
      "source": [
        "# Print the type of 0.5\n",
        "\n",
        "type(0.5)"
      ],
      "metadata": {
        "colab": {
          "base_uri": "https://localhost:8080/"
        },
        "id": "AuLmtZ0QHcD0",
        "outputId": "7a230d96-b614-4016-c21b-fa57334d235a"
      },
      "execution_count": null,
      "outputs": [
        {
          "output_type": "execute_result",
          "data": {
            "text/plain": [
              "float"
            ]
          },
          "metadata": {},
          "execution_count": 14
        }
      ]
    },
    {
      "cell_type": "code",
      "source": [
        "# Print the type of 0.56\n",
        "\n",
        "type(0.56)"
      ],
      "metadata": {
        "colab": {
          "base_uri": "https://localhost:8080/"
        },
        "id": "HVsy03HlHgKp",
        "outputId": "83aead84-da42-49b7-9d0d-28b7ef3afb2e"
      },
      "execution_count": null,
      "outputs": [
        {
          "output_type": "execute_result",
          "data": {
            "text/plain": [
              "float"
            ]
          },
          "metadata": {},
          "execution_count": 15
        }
      ]
    },
    {
      "cell_type": "code",
      "source": [
        "# System settings about float type\n",
        "import sys # it is needes to declare the library \"sys\" before using it\n",
        "sys.float_info"
      ],
      "metadata": {
        "colab": {
          "base_uri": "https://localhost:8080/"
        },
        "id": "i8beD3bHHkEy",
        "outputId": "271b7be9-6679-4ca4-9b1a-72778a5992cc"
      },
      "execution_count": null,
      "outputs": [
        {
          "output_type": "execute_result",
          "data": {
            "text/plain": [
              "sys.float_info(max=1.7976931348623157e+308, max_exp=1024, max_10_exp=308, min=2.2250738585072014e-308, min_exp=-1021, min_10_exp=-307, dig=15, mant_dig=53, epsilon=2.220446049250313e-16, radix=2, rounds=1)"
            ]
          },
          "metadata": {},
          "execution_count": 16
        }
      ]
    },
    {
      "cell_type": "code",
      "source": [
        "# Verify that this is an integer\n",
        "\n",
        "type(2)"
      ],
      "metadata": {
        "colab": {
          "base_uri": "https://localhost:8080/"
        },
        "id": "LVplUv4BHtZo",
        "outputId": "4fa0f282-aea3-4a20-f8f5-3005070e4cfa"
      },
      "execution_count": null,
      "outputs": [
        {
          "output_type": "execute_result",
          "data": {
            "text/plain": [
              "int"
            ]
          },
          "metadata": {},
          "execution_count": 17
        }
      ]
    },
    {
      "cell_type": "code",
      "source": [
        "# Convert 2 to a float\n",
        "\n",
        "float(2)"
      ],
      "metadata": {
        "colab": {
          "base_uri": "https://localhost:8080/"
        },
        "id": "2RTZjna7Hw8j",
        "outputId": "833dee49-1507-4748-c369-51e8122b8333"
      },
      "execution_count": null,
      "outputs": [
        {
          "output_type": "execute_result",
          "data": {
            "text/plain": [
              "2.0"
            ]
          },
          "metadata": {},
          "execution_count": 18
        }
      ]
    },
    {
      "cell_type": "code",
      "source": [
        "# Convert integer 2 to a float and check its type\n",
        "\n",
        "type(float(2))"
      ],
      "metadata": {
        "colab": {
          "base_uri": "https://localhost:8080/"
        },
        "id": "hXw7EX8tHxz2",
        "outputId": "344daf26-7b0c-486f-9f33-752d52cdd728"
      },
      "execution_count": null,
      "outputs": [
        {
          "output_type": "execute_result",
          "data": {
            "text/plain": [
              "float"
            ]
          },
          "metadata": {},
          "execution_count": 19
        }
      ]
    },
    {
      "cell_type": "code",
      "source": [
        "# Casting 1.1 to integer will result in loss of information\n",
        "\n",
        "int(1.1)"
      ],
      "metadata": {
        "colab": {
          "base_uri": "https://localhost:8080/"
        },
        "id": "rACo9HcWH0rc",
        "outputId": "30984e4f-a04a-4e8f-d8ed-02e18a4ffe37"
      },
      "execution_count": null,
      "outputs": [
        {
          "output_type": "execute_result",
          "data": {
            "text/plain": [
              "1"
            ]
          },
          "metadata": {},
          "execution_count": 20
        }
      ]
    },
    {
      "cell_type": "code",
      "source": [
        "# Convert a string into an integer\n",
        "\n",
        "int('1')"
      ],
      "metadata": {
        "colab": {
          "base_uri": "https://localhost:8080/"
        },
        "id": "_e_W1oJYH3o7",
        "outputId": "011153ec-523a-4a0d-fe64-f07327785126"
      },
      "execution_count": null,
      "outputs": [
        {
          "output_type": "execute_result",
          "data": {
            "text/plain": [
              "1"
            ]
          },
          "metadata": {},
          "execution_count": 21
        }
      ]
    },
    {
      "cell_type": "code",
      "source": [
        "# Convert a string into an integer with error handling\n",
        "\n",
        "try:\n",
        "    result = int(\"1 or 2 people\")\n",
        "    print(result)\n",
        "except ValueError:\n",
        "    print(\"Cannot convert the string to an integer.\")"
      ],
      "metadata": {
        "colab": {
          "base_uri": "https://localhost:8080/"
        },
        "id": "l1n93wa1H6ws",
        "outputId": "0eb59089-fe2f-4a65-f543-ef9dec0cfdf0"
      },
      "execution_count": 63,
      "outputs": [
        {
          "output_type": "stream",
          "name": "stdout",
          "text": [
            "Cannot convert the string to an integer.\n"
          ]
        }
      ]
    },
    {
      "cell_type": "code",
      "source": [
        "# Convert the string \"1.2\" into a float\n",
        "\n",
        "float('1.2')"
      ],
      "metadata": {
        "colab": {
          "base_uri": "https://localhost:8080/"
        },
        "id": "b1m2O60yK0b9",
        "outputId": "70bab2f2-62be-4d78-b2d7-d71efcd58d39"
      },
      "execution_count": null,
      "outputs": [
        {
          "output_type": "execute_result",
          "data": {
            "text/plain": [
              "1.2"
            ]
          },
          "metadata": {},
          "execution_count": 28
        }
      ]
    },
    {
      "cell_type": "code",
      "source": [
        "# Convert an integer to a string\n",
        "\n",
        "str(1)"
      ],
      "metadata": {
        "colab": {
          "base_uri": "https://localhost:8080/",
          "height": 35
        },
        "id": "XijnQDN4K2Q4",
        "outputId": "7cb7be90-e859-43db-fcfa-dc75a6c4d32e"
      },
      "execution_count": null,
      "outputs": [
        {
          "output_type": "execute_result",
          "data": {
            "text/plain": [
              "'1'"
            ],
            "application/vnd.google.colaboratory.intrinsic+json": {
              "type": "string"
            }
          },
          "metadata": {},
          "execution_count": 29
        }
      ]
    },
    {
      "cell_type": "code",
      "source": [
        "# Convert a float to a string\n",
        "\n",
        "str(1.2)"
      ],
      "metadata": {
        "colab": {
          "base_uri": "https://localhost:8080/",
          "height": 35
        },
        "id": "bAdTwNLMK5aa",
        "outputId": "b41b4862-075f-491d-aea0-88c832e62dd6"
      },
      "execution_count": null,
      "outputs": [
        {
          "output_type": "execute_result",
          "data": {
            "text/plain": [
              "'1.2'"
            ],
            "application/vnd.google.colaboratory.intrinsic+json": {
              "type": "string"
            }
          },
          "metadata": {},
          "execution_count": 30
        }
      ]
    },
    {
      "cell_type": "code",
      "source": [
        "# Value true\n",
        "\n",
        "True"
      ],
      "metadata": {
        "colab": {
          "base_uri": "https://localhost:8080/"
        },
        "id": "sJac-Lb0K9g8",
        "outputId": "58e98b0d-a902-44c3-813d-29863e25734b"
      },
      "execution_count": null,
      "outputs": [
        {
          "output_type": "execute_result",
          "data": {
            "text/plain": [
              "True"
            ]
          },
          "metadata": {},
          "execution_count": 31
        }
      ]
    },
    {
      "cell_type": "code",
      "source": [
        "# Value false\n",
        "\n",
        "False"
      ],
      "metadata": {
        "colab": {
          "base_uri": "https://localhost:8080/"
        },
        "id": "j0u5L28jLBq_",
        "outputId": "5b663b49-89ee-41eb-e640-94c9d7aa7a82"
      },
      "execution_count": null,
      "outputs": [
        {
          "output_type": "execute_result",
          "data": {
            "text/plain": [
              "False"
            ]
          },
          "metadata": {},
          "execution_count": 32
        }
      ]
    },
    {
      "cell_type": "code",
      "source": [
        "# Type of True\n",
        "\n",
        "type(True)"
      ],
      "metadata": {
        "colab": {
          "base_uri": "https://localhost:8080/"
        },
        "id": "npCbl8fqLFCj",
        "outputId": "dba58c4e-e7ca-415e-9a98-2471116b7b3c"
      },
      "execution_count": null,
      "outputs": [
        {
          "output_type": "execute_result",
          "data": {
            "text/plain": [
              "bool"
            ]
          },
          "metadata": {},
          "execution_count": 33
        }
      ]
    },
    {
      "cell_type": "code",
      "source": [
        "# Type of False\n",
        "\n",
        "type(False)"
      ],
      "metadata": {
        "colab": {
          "base_uri": "https://localhost:8080/"
        },
        "id": "aXCap4_LLHiv",
        "outputId": "ea7b008f-789d-4d2c-d39a-aa4f4fd6e838"
      },
      "execution_count": null,
      "outputs": [
        {
          "output_type": "execute_result",
          "data": {
            "text/plain": [
              "bool"
            ]
          },
          "metadata": {},
          "execution_count": 34
        }
      ]
    },
    {
      "cell_type": "code",
      "source": [
        "# Convert True to int\n",
        "\n",
        "int(True)"
      ],
      "metadata": {
        "colab": {
          "base_uri": "https://localhost:8080/"
        },
        "id": "zdid-hyRLM3p",
        "outputId": "5684f1fa-23ac-4b41-feec-6abd24639794"
      },
      "execution_count": null,
      "outputs": [
        {
          "output_type": "execute_result",
          "data": {
            "text/plain": [
              "1"
            ]
          },
          "metadata": {},
          "execution_count": 35
        }
      ]
    },
    {
      "cell_type": "code",
      "source": [
        "# Convert 1 to boolean\n",
        "\n",
        "bool(1)"
      ],
      "metadata": {
        "colab": {
          "base_uri": "https://localhost:8080/"
        },
        "id": "lQTGlh-JLRzk",
        "outputId": "b89e1041-6848-473c-c4f5-bd089dfa843c"
      },
      "execution_count": null,
      "outputs": [
        {
          "output_type": "execute_result",
          "data": {
            "text/plain": [
              "True"
            ]
          },
          "metadata": {},
          "execution_count": 36
        }
      ]
    },
    {
      "cell_type": "code",
      "source": [
        "# Convert 0 to boolean\n",
        "\n",
        "bool(0)"
      ],
      "metadata": {
        "colab": {
          "base_uri": "https://localhost:8080/"
        },
        "id": "-KeUNlhaLU6X",
        "outputId": "e3d2b217-d96e-4d23-e1b9-16872d6a8e2a"
      },
      "execution_count": null,
      "outputs": [
        {
          "output_type": "execute_result",
          "data": {
            "text/plain": [
              "False"
            ]
          },
          "metadata": {},
          "execution_count": 37
        }
      ]
    },
    {
      "cell_type": "code",
      "source": [
        "# Convert True to float\n",
        "\n",
        "float(True)"
      ],
      "metadata": {
        "colab": {
          "base_uri": "https://localhost:8080/"
        },
        "id": "S0rF8hpXLZWi",
        "outputId": "a815d57e-1b0c-4ca2-d9eb-0b57ccba792b"
      },
      "execution_count": null,
      "outputs": [
        {
          "output_type": "execute_result",
          "data": {
            "text/plain": [
              "1.0"
            ]
          },
          "metadata": {},
          "execution_count": 38
        }
      ]
    },
    {
      "cell_type": "code",
      "source": [
        "# Write your code below. Don't forget to press Shift+Enter to execute the cell\n",
        "type(6/2)"
      ],
      "metadata": {
        "colab": {
          "base_uri": "https://localhost:8080/"
        },
        "id": "4x82D9EELcXM",
        "outputId": "12d97987-370f-4531-9d1b-b593b681e916"
      },
      "execution_count": null,
      "outputs": [
        {
          "output_type": "execute_result",
          "data": {
            "text/plain": [
              "float"
            ]
          },
          "metadata": {},
          "execution_count": 39
        }
      ]
    },
    {
      "cell_type": "code",
      "source": [
        "# Write your code below. Don't forget to press Shift+Enter to execute the cell\n",
        "type(6//2)"
      ],
      "metadata": {
        "colab": {
          "base_uri": "https://localhost:8080/"
        },
        "id": "-ywiDr9dLfvM",
        "outputId": "f11cc47e-f2e2-4471-8722-18a18dc77281"
      },
      "execution_count": null,
      "outputs": [
        {
          "output_type": "execute_result",
          "data": {
            "text/plain": [
              "int"
            ]
          },
          "metadata": {},
          "execution_count": 40
        }
      ]
    },
    {
      "cell_type": "code",
      "source": [
        "# Addition operation expression\n",
        "\n",
        "#43 + 60 + 16 + 41\n",
        "\n",
        "type(10.55+10.5-5)"
      ],
      "metadata": {
        "colab": {
          "base_uri": "https://localhost:8080/"
        },
        "id": "DvnSq125LjjE",
        "outputId": "05fc7f88-a1b2-4e5a-bcba-917792c442f0"
      },
      "execution_count": null,
      "outputs": [
        {
          "output_type": "execute_result",
          "data": {
            "text/plain": [
              "float"
            ]
          },
          "metadata": {},
          "execution_count": 41
        }
      ]
    },
    {
      "cell_type": "code",
      "source": [
        "# Subtraction operation expression\n",
        "\n",
        "type(50 - 60)"
      ],
      "metadata": {
        "colab": {
          "base_uri": "https://localhost:8080/"
        },
        "id": "P5GwgbBFLnim",
        "outputId": "79512e76-0f24-40de-a2b7-8abb6e0e3a83"
      },
      "execution_count": null,
      "outputs": [
        {
          "output_type": "execute_result",
          "data": {
            "text/plain": [
              "int"
            ]
          },
          "metadata": {},
          "execution_count": 42
        }
      ]
    },
    {
      "cell_type": "code",
      "source": [
        "# Multiplication operation expression\n",
        "\n",
        "5 * 5"
      ],
      "metadata": {
        "colab": {
          "base_uri": "https://localhost:8080/"
        },
        "id": "27amQc7pLuzx",
        "outputId": "f69ab7bb-7633-43c0-d35a-8f48d15683ce"
      },
      "execution_count": null,
      "outputs": [
        {
          "output_type": "execute_result",
          "data": {
            "text/plain": [
              "25"
            ]
          },
          "metadata": {},
          "execution_count": 43
        }
      ]
    },
    {
      "cell_type": "code",
      "source": [
        "# Division operation expression\n",
        "\n",
        "25 / 5"
      ],
      "metadata": {
        "colab": {
          "base_uri": "https://localhost:8080/"
        },
        "id": "-hpSipK6LxwX",
        "outputId": "003695c8-7115-4b5d-9404-ab4e7388ada8"
      },
      "execution_count": null,
      "outputs": [
        {
          "output_type": "execute_result",
          "data": {
            "text/plain": [
              "5.0"
            ]
          },
          "metadata": {},
          "execution_count": 44
        }
      ]
    },
    {
      "cell_type": "code",
      "source": [
        "# Division operation expression\n",
        "\n",
        "25 / 6"
      ],
      "metadata": {
        "colab": {
          "base_uri": "https://localhost:8080/"
        },
        "id": "auem_z3WL0wF",
        "outputId": "81dcdb09-8160-4cde-9a1f-4b525a44c4fc"
      },
      "execution_count": null,
      "outputs": [
        {
          "output_type": "execute_result",
          "data": {
            "text/plain": [
              "4.166666666666667"
            ]
          },
          "metadata": {},
          "execution_count": 45
        }
      ]
    },
    {
      "cell_type": "code",
      "source": [
        "# Integer division operation expression\n",
        "\n",
        "25 // 5"
      ],
      "metadata": {
        "colab": {
          "base_uri": "https://localhost:8080/"
        },
        "id": "4yEZWSNjL3n1",
        "outputId": "b7671d94-110b-4e2e-e352-905664c5d95a"
      },
      "execution_count": null,
      "outputs": [
        {
          "output_type": "execute_result",
          "data": {
            "text/plain": [
              "5"
            ]
          },
          "metadata": {},
          "execution_count": 46
        }
      ]
    },
    {
      "cell_type": "code",
      "source": [
        "# Integer division operation expression\n",
        "\n",
        "25 // 6"
      ],
      "metadata": {
        "colab": {
          "base_uri": "https://localhost:8080/"
        },
        "id": "GIwN-MW8L7QI",
        "outputId": "2742225c-19d2-4581-ef9e-aac3a745e34b"
      },
      "execution_count": null,
      "outputs": [
        {
          "output_type": "execute_result",
          "data": {
            "text/plain": [
              "4"
            ]
          },
          "metadata": {},
          "execution_count": 47
        }
      ]
    },
    {
      "cell_type": "code",
      "source": [
        "# Write your code below. Don't forget to press Shift+Enter to execute the cell\n",
        "160/60"
      ],
      "metadata": {
        "colab": {
          "base_uri": "https://localhost:8080/"
        },
        "id": "a1t9F_qvL_c8",
        "outputId": "4771f43c-84e1-44e5-d541-c2493ed9bb88"
      },
      "execution_count": null,
      "outputs": [
        {
          "output_type": "execute_result",
          "data": {
            "text/plain": [
              "2.6666666666666665"
            ]
          },
          "metadata": {},
          "execution_count": 48
        }
      ]
    },
    {
      "cell_type": "code",
      "source": [
        "# Mathematical expression\n",
        "\n",
        "30 + 2 * 60 // 10"
      ],
      "metadata": {
        "colab": {
          "base_uri": "https://localhost:8080/"
        },
        "id": "C2GDi2jbMDGq",
        "outputId": "f9c390a5-b7ff-4f16-e25e-446b2b7f5b8c"
      },
      "execution_count": null,
      "outputs": [
        {
          "output_type": "execute_result",
          "data": {
            "text/plain": [
              "42"
            ]
          },
          "metadata": {},
          "execution_count": 49
        }
      ]
    },
    {
      "cell_type": "code",
      "source": [
        "# Mathematical expression\n",
        "\n",
        "(30 + 2) * 60"
      ],
      "metadata": {
        "id": "eHQYlki-MF1Q",
        "outputId": "a04042a7-54ac-4ffb-ecd5-aa4a3020d4b7",
        "colab": {
          "base_uri": "https://localhost:8080/"
        }
      },
      "execution_count": null,
      "outputs": [
        {
          "output_type": "execute_result",
          "data": {
            "text/plain": [
              "1920"
            ]
          },
          "metadata": {},
          "execution_count": 50
        }
      ]
    },
    {
      "cell_type": "code",
      "source": [
        "# Store value into variable\n",
        "\n",
        "x = 43 + 60 + 16 + 41\n",
        "x"
      ],
      "metadata": {
        "id": "voDOoRjKMImF",
        "colab": {
          "base_uri": "https://localhost:8080/"
        },
        "outputId": "1e957a36-2ae5-414a-ea36-1808b28c0620"
      },
      "execution_count": 1,
      "outputs": [
        {
          "output_type": "execute_result",
          "data": {
            "text/plain": [
              "160"
            ]
          },
          "metadata": {},
          "execution_count": 1
        }
      ]
    },
    {
      "cell_type": "code",
      "source": [
        "# Print out the value in variable\n",
        "\n",
        "x = 43 + 60 + 16 + 41\n",
        "x"
      ],
      "metadata": {
        "colab": {
          "base_uri": "https://localhost:8080/"
        },
        "id": "62yYBWi8-EWm",
        "outputId": "19a83387-5296-4449-bcc2-670847b8f15c"
      },
      "execution_count": 2,
      "outputs": [
        {
          "output_type": "execute_result",
          "data": {
            "text/plain": [
              "160"
            ]
          },
          "metadata": {},
          "execution_count": 2
        }
      ]
    },
    {
      "cell_type": "code",
      "source": [
        "# Use another variable to store the result of the operation between variable and value\n",
        "\n",
        "y = x / 60\n",
        "y"
      ],
      "metadata": {
        "colab": {
          "base_uri": "https://localhost:8080/"
        },
        "id": "3A78UjJ3-I5G",
        "outputId": "df88fe92-bf4d-465a-8849-7ea560a5a48b"
      },
      "execution_count": 3,
      "outputs": [
        {
          "output_type": "execute_result",
          "data": {
            "text/plain": [
              "2.6666666666666665"
            ]
          },
          "metadata": {},
          "execution_count": 3
        }
      ]
    },
    {
      "cell_type": "code",
      "source": [
        "# Overwrite variable with new value\n",
        "\n",
        "x = x / 60\n",
        "print(x)"
      ],
      "metadata": {
        "colab": {
          "base_uri": "https://localhost:8080/"
        },
        "id": "EUe1X7oY-N5R",
        "outputId": "4ad433d5-cf9f-41e1-d2d0-627683ddc38e"
      },
      "execution_count": 4,
      "outputs": [
        {
          "output_type": "stream",
          "name": "stdout",
          "text": [
            "2.6666666666666665\n"
          ]
        }
      ]
    },
    {
      "cell_type": "code",
      "source": [
        "x"
      ],
      "metadata": {
        "colab": {
          "base_uri": "https://localhost:8080/"
        },
        "id": "5Tg339D4-SIj",
        "outputId": "5b4b5763-c996-4628-cd09-74167efcfab2"
      },
      "execution_count": 5,
      "outputs": [
        {
          "output_type": "execute_result",
          "data": {
            "text/plain": [
              "2.6666666666666665"
            ]
          },
          "metadata": {},
          "execution_count": 5
        }
      ]
    },
    {
      "cell_type": "code",
      "source": [
        "# Name the variables meaningfully\n",
        "\n",
        "total_min = 43 + 42 + 57 # Total length of albums in minutes\n",
        "total_min"
      ],
      "metadata": {
        "colab": {
          "base_uri": "https://localhost:8080/"
        },
        "id": "FunQE8Lx-Tfm",
        "outputId": "d5b49888-b5ab-4d75-a43d-72aabdc37feb"
      },
      "execution_count": 6,
      "outputs": [
        {
          "output_type": "execute_result",
          "data": {
            "text/plain": [
              "142"
            ]
          },
          "metadata": {},
          "execution_count": 6
        }
      ]
    },
    {
      "cell_type": "code",
      "source": [
        "# Name the variables meaningfully\n",
        "\n",
        "total_min = 43 + 42 + 57 # Total length of albums in minutes\n",
        "total_min"
      ],
      "metadata": {
        "colab": {
          "base_uri": "https://localhost:8080/"
        },
        "id": "pEaOZ__Y-Wh3",
        "outputId": "6a2db0e1-3ef4-4556-c490-2867c97c8a86"
      },
      "execution_count": 7,
      "outputs": [
        {
          "output_type": "execute_result",
          "data": {
            "text/plain": [
              "142"
            ]
          },
          "metadata": {},
          "execution_count": 7
        }
      ]
    },
    {
      "cell_type": "code",
      "source": [
        "float(total_min)"
      ],
      "metadata": {
        "colab": {
          "base_uri": "https://localhost:8080/"
        },
        "id": "ecubX65v-aAx",
        "outputId": "6cda3095-17ee-4eeb-9a35-f43977e8483a"
      },
      "execution_count": 8,
      "outputs": [
        {
          "output_type": "execute_result",
          "data": {
            "text/plain": [
              "142.0"
            ]
          },
          "metadata": {},
          "execution_count": 8
        }
      ]
    },
    {
      "cell_type": "code",
      "source": [
        "a=2\n",
        "a"
      ],
      "metadata": {
        "colab": {
          "base_uri": "https://localhost:8080/"
        },
        "id": "nQ76owOo-b9S",
        "outputId": "409e0682-00f3-454c-f700-4de99bed9f9b"
      },
      "execution_count": 9,
      "outputs": [
        {
          "output_type": "execute_result",
          "data": {
            "text/plain": [
              "2"
            ]
          },
          "metadata": {},
          "execution_count": 9
        }
      ]
    },
    {
      "cell_type": "code",
      "source": [
        "print(float(a))"
      ],
      "metadata": {
        "colab": {
          "base_uri": "https://localhost:8080/"
        },
        "id": "muSlRc6f-fim",
        "outputId": "f88e756e-95ab-4265-8e64-9ba9662f22d9"
      },
      "execution_count": 10,
      "outputs": [
        {
          "output_type": "stream",
          "name": "stdout",
          "text": [
            "2.0\n"
          ]
        }
      ]
    },
    {
      "cell_type": "code",
      "source": [
        "# Name the variables meaningfully\n",
        "\n",
        "total_hours = total_min / 60 # Total length of albums in hours\n",
        "total_hours"
      ],
      "metadata": {
        "colab": {
          "base_uri": "https://localhost:8080/"
        },
        "id": "4JDX20T3-iLR",
        "outputId": "cb0ff32a-d8d9-45e6-af0a-f388ef19e5c5"
      },
      "execution_count": 11,
      "outputs": [
        {
          "output_type": "execute_result",
          "data": {
            "text/plain": [
              "2.3666666666666667"
            ]
          },
          "metadata": {},
          "execution_count": 11
        }
      ]
    },
    {
      "cell_type": "code",
      "source": [
        "# Complicate expression\n",
        "\n",
        "total_hours = (43 + 42 + 57) / 60  # Total hours in a single expression\n",
        "total_hours"
      ],
      "metadata": {
        "colab": {
          "base_uri": "https://localhost:8080/"
        },
        "id": "gKtzKrfh-tRE",
        "outputId": "dca948f8-e943-4ead-df22-622b3b3ddd7d"
      },
      "execution_count": 12,
      "outputs": [
        {
          "output_type": "execute_result",
          "data": {
            "text/plain": [
              "2.3666666666666667"
            ]
          },
          "metadata": {},
          "execution_count": 12
        }
      ]
    },
    {
      "cell_type": "code",
      "source": [
        "# Write your code below. Don't forget to press Shift+Enter to execute the cell\n",
        "x = 3 + 2 * 2\n",
        "x"
      ],
      "metadata": {
        "colab": {
          "base_uri": "https://localhost:8080/"
        },
        "id": "UP5RPjqN-vrA",
        "outputId": "1408fee3-db1a-49a5-d846-0af6f436147c"
      },
      "execution_count": 13,
      "outputs": [
        {
          "output_type": "execute_result",
          "data": {
            "text/plain": [
              "7"
            ]
          },
          "metadata": {},
          "execution_count": 13
        }
      ]
    },
    {
      "cell_type": "code",
      "source": [
        "# Write your code below. Don't forget to press Shift+Enter to execute the cell\n",
        "y = (3 + 2) * 2\n",
        "y"
      ],
      "metadata": {
        "colab": {
          "base_uri": "https://localhost:8080/"
        },
        "id": "9WhnhzDu-yue",
        "outputId": "a6c22fbd-9f0b-4d5d-fa13-96024d640b4a"
      },
      "execution_count": 14,
      "outputs": [
        {
          "output_type": "execute_result",
          "data": {
            "text/plain": [
              "10"
            ]
          },
          "metadata": {},
          "execution_count": 14
        }
      ]
    },
    {
      "cell_type": "code",
      "source": [
        "# Write your code below. Don't forget to press Shift+Enter to execute the cell\n",
        "z = x + y\n",
        "z"
      ],
      "metadata": {
        "colab": {
          "base_uri": "https://localhost:8080/"
        },
        "id": "TpTbYaDp-04x",
        "outputId": "c2459c0d-8630-4b36-c13a-064a51bb5089"
      },
      "execution_count": 15,
      "outputs": [
        {
          "output_type": "execute_result",
          "data": {
            "text/plain": [
              "17"
            ]
          },
          "metadata": {},
          "execution_count": 15
        }
      ]
    },
    {
      "cell_type": "code",
      "source": [
        "\n",
        "panjang = 20.5\n",
        "lebar = 25\n",
        "tinggi = 10\n",
        "\n",
        "keliling = 2*(panjang+lebar)\n",
        "luas = panjang*lebar\n",
        "volum = panjang*lebar*tinggi\n",
        "\n",
        "print(\"Panjang =\",  + panjang)\n",
        "print(\"Lebar =\",  + lebar)\n",
        "print(\"Tinggi =\",   tinggi)\n",
        "print(\"Keliling =\",   keliling)\n",
        "print(\"Volume =\",  + volum)"
      ],
      "metadata": {
        "colab": {
          "base_uri": "https://localhost:8080/"
        },
        "id": "9Nh7f40n_FVy",
        "outputId": "b6274ffb-f27e-4223-f69b-979df08270d0"
      },
      "execution_count": 21,
      "outputs": [
        {
          "output_type": "stream",
          "name": "stdout",
          "text": [
            "Panjang = 20.5\n",
            "Lebar = 25\n",
            "Tinggi = 10\n",
            "Keliling = 91.0\n",
            "Volume = 5125.0\n"
          ]
        }
      ]
    },
    {
      "cell_type": "code",
      "source": [
        "class color:\n",
        "  BOLD = '\\033[1m'\n",
        "  END = '\\033[0m'\n",
        "\n",
        "mahasiswa = {\n",
        "\"Shafira\": {\"Kalkulus 1\": 85, \"Metode Statistika\": 75},\n",
        "\"Amanda\": {\"Kalkulus 1\": 80, \"Metode Statistika\": 90},\n",
        "\"Aditya\": {\"Kalkulus 1\": 75, \"Metode Statistika\": 80},\n",
        "\"Nedia\": {\"Kalkulus 1\": 95, \"Metode Statistika\": 80},\n",
        "\"Widya\": {\"Kalkulus 1\": 85, \"Metode Statistika\": 85},\n",
        "\"Hanif\": {\"Kalkulus 1\": 75, \"Metode Statistika\": 90},\n",
        "\"Andi\": {\"Kalkulus 1\": 70, \"Metode Statistika\": 75},\n",
        "\"Dhanar\": {\"Kalkulus 1\": 85, \"Metode Statistika\": 85},\n",
        "\"Hikma\": {\"Kalkulus 1\": 80, \"Metode Statistika\": 75}\n",
        "}\n",
        "rata_rata_shafira = (mahasiswa[\"Shafira\"][\"Kalkulus 1\"] + mahasiswa[\"Shafira\"][\"Metode Statistika\"]) / 2\n",
        "print(color.BOLD + \"Rata-Rata nilai Shafira di kedua mata kuliah : \" + str(rata_rata_shafira) + color.END)\n",
        "jumlah_hanif_andi = mahasiswa[\"Hanif\"][\"Kalkulus 1\"] + mahasiswa[\"Hanif\"][\"Metode Statistika\"] + mahasiswa[\"Andi\"][\"Kalkulus 1\"] + mahasiswa[\"Andi\"][\"Metode Statistika\"]\n",
        "print(color.BOLD + \"Jumlah nilai Hanif dan Andi untuk semua mata kuliah : \"  + str(jumlah_hanif_andi) + color.END)\n",
        "\n",
        "print('\\n')\n",
        "\n",
        "rata_rata_widya_kalkulus = mahasiswa[\"Widya\"][\"Kalkulus 1\"]\n",
        "rata_rata_widya_statistika = mahasiswa[\"Widya\"][\"Metode Statistika\"]\n",
        "rata_rata_dhanar_kalkulus = mahasiswa[\"Dhanar\"][\"Kalkulus 1\"]\n",
        "rata_rata_dhanar_statistika = mahasiswa[\"Dhanar\"][\"Metode Statistika\"]\n",
        "rata_rata_hikma_kalkulus = mahasiswa[\"Hikma\"][\"Kalkulus 1\"]\n",
        "rata_rata_hikma_statistika = mahasiswa[\"Hikma\"][\"Metode Statistika\"]\n",
        "rata_rata_nedia_kalkulus = mahasiswa[\"Nedia\"][\"Kalkulus 1\"]\n",
        "rata_rata_nedia_statistika = mahasiswa[\"Nedia\"][\"Metode Statistika\"]\n",
        "\n",
        "print(\"Rata-Rata nilai Widya pada Kalkulus 1 :\", rata_rata_widya_kalkulus)\n",
        "print(\"Rata-Rata nilai Widya pada Metode Statistika:\", rata_rata_widya_statistika)\n",
        "print(\"Rata-Rata nilai Dhanar pada Kalkulus 1 :\", rata_rata_dhanar_kalkulus)\n",
        "print(\"Rata-Rata nilai Dhanar pada Metode Statistika:\", rata_rata_dhanar_statistika)\n",
        "print(\"Rata-Rata nilai Hikma pada Kalkulus 1 :\", rata_rata_hikma_kalkulus)\n",
        "print(\"Rata-Rata nilai Hikma pada Metode Statistika:\", rata_rata_hikma_statistika)\n",
        "print(\"Rata-Rata nilai Nedia pada Kalkulus 1 :\", rata_rata_nedia_kalkulus)\n",
        "print(\"Rata-Rata nilai Nedia pada Metode Statistika :\", rata_rata_nedia_statistika)\n",
        "\n",
        "total_kalkulus = 0\n",
        "jumlah_mahasiswa = len(mahasiswa)\n",
        "for mahasiswa_name in mahasiswa:\n",
        "  total_kalkulus += mahasiswa[mahasiswa_name][\"Kalkulus 1\"]\n",
        "rata_rata_kalkulus = total_kalkulus / jumlah_mahasiswa\n",
        "print(\"Rata-Rata nilai mata kuliah Kalkulus 1 untuk semua mahasiswa :\", rata_rata_kalkulus)\n",
        "\n",
        "total_statistika = 0\n",
        "for mahasiswa_name in mahasiswa:\n",
        "  total_statistika += mahasiswa[mahasiswa_name][\"Metode Statistika\"]\n",
        "rata_rata_statistika = total_statistika / jumlah_mahasiswa\n",
        "print(\"Rata-Rata nilai mata kuliah Metode Statistika untuk semua mahasiswa :\", rata_rata_statistika)\n"
      ],
      "metadata": {
        "colab": {
          "base_uri": "https://localhost:8080/"
        },
        "id": "jDWHA6IyDDzD",
        "outputId": "c3bc585a-8283-4e75-e0fe-8c0f0829f125"
      },
      "execution_count": 55,
      "outputs": [
        {
          "output_type": "stream",
          "name": "stdout",
          "text": [
            "\u001b[1mRata-Rata nilai Shafira di kedua mata kuliah : 80.0\u001b[0m\n",
            "\u001b[1mJumlah nilai Hanif dan Andi untuk semua mata kuliah : 310\u001b[0m\n",
            "\n",
            "\n",
            "Rata-Rata nilai Widya pada Kalkulus 1 : 85\n",
            "Rata-Rata nilai Widya pada Metode Statistika: 85\n",
            "Rata-Rata nilai Dhanar pada Kalkulus 1 : 85\n",
            "Rata-Rata nilai Dhanar pada Metode Statistika: 85\n",
            "Rata-Rata nilai Hikma pada Kalkulus 1 : 80\n",
            "Rata-Rata nilai Hikma pada Metode Statistika: 75\n",
            "Rata-Rata nilai Nedia pada Kalkulus 1 : 95\n",
            "Rata-Rata nilai Nedia pada Metode Statistika : 80\n",
            "Rata-Rata nilai mata kuliah Kalkulus 1 untuk semua mahasiswa : 81.11111111111111\n",
            "Rata-Rata nilai mata kuliah Metode Statistika untuk semua mahasiswa : 81.66666666666667\n"
          ]
        }
      ]
    },
    {
      "cell_type": "code",
      "source": [
        "gaji_per_jam = 30000\n",
        "hari_kerja = 25\n",
        "hari_tidak_masuk = 3\n",
        "total_jam_kerja = (hari_kerja - hari_tidak_masuk) * 8\n",
        "gaji_pokok = total_jam_kerja * gaji_per_jam\n",
        "tunjangan = 0.1 * gaji_pokok\n",
        "jam_lembur = 5\n",
        "upah_lembur = jam_lembur * 10000\n",
        "gaji_total = gaji_pokok + tunjangan + upah_lembur\n",
        "\n",
        "print(\"Gaji Dwi di bulan Agustus:\", gaji_pokok)\n",
        "print(\"Tunjangan Dwi:\", tunjangan)\n",
        "print(\"Total gaji Dwi pada bulan Agustus:\", gaji_total)"
      ],
      "metadata": {
        "colab": {
          "base_uri": "https://localhost:8080/"
        },
        "id": "LVpWzLuaNBj_",
        "outputId": "03fa6e6c-20ba-4520-ecdf-7bcee0fe252b"
      },
      "execution_count": 56,
      "outputs": [
        {
          "output_type": "stream",
          "name": "stdout",
          "text": [
            "Gaji Dwi di bulan Agustus: 5280000\n",
            "Tunjangan Dwi: 528000.0\n",
            "Total gaji Dwi pada bulan Agustus: 5858000.0\n"
          ]
        }
      ]
    }
  ]
}