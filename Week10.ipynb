{
  "nbformat": 4,
  "nbformat_minor": 0,
  "metadata": {
    "colab": {
      "provenance": [],
      "authorship_tag": "ABX9TyMiqXpGZIQ1O0osxlYs+log",
      "include_colab_link": true
    },
    "kernelspec": {
      "name": "python3",
      "display_name": "Python 3"
    },
    "language_info": {
      "name": "python"
    }
  },
  "cells": [
    {
      "cell_type": "markdown",
      "metadata": {
        "id": "view-in-github",
        "colab_type": "text"
      },
      "source": [
        "<a href=\"https://colab.research.google.com/github/clizardyy/Praktikum-Algoritma/blob/master/Week10.ipynb\" target=\"_parent\"><img src=\"https://colab.research.google.com/assets/colab-badge.svg\" alt=\"Open In Colab\"/></a>"
      ]
    },
    {
      "cell_type": "code",
      "execution_count": null,
      "metadata": {
        "colab": {
          "base_uri": "https://localhost:8080/"
        },
        "id": "is1bYWKXlqxC",
        "outputId": "100b9c9b-c14c-4ce7-8a64-631c332671bf"
      },
      "outputs": [
        {
          "output_type": "stream",
          "name": "stdout",
          "text": [
            "Hello from a function\n"
          ]
        }
      ],
      "source": [
        "def my_function():\n",
        "  print(\"Hello from a function\")\n",
        "my_function()"
      ]
    },
    {
      "cell_type": "code",
      "source": [
        "def my_function(fname):\n",
        "  print(fname + \"Sitohang\")\n",
        "\n",
        "  my_function(\"Toha\")\n",
        "  my_function(\"Tohir\")\n",
        "  my_function(\"Tobi\")"
      ],
      "metadata": {
        "id": "tsL1oP44pHma"
      },
      "execution_count": null,
      "outputs": []
    },
    {
      "cell_type": "code",
      "source": [
        "#This function expects 2 arguments, but gets only 1:\n",
        "def my_function(fname, lname):\n",
        "  print(fname + \" \" + lname)\n",
        "\n",
        "my_function(\"Surip\", \"Sitohang\")"
      ],
      "metadata": {
        "colab": {
          "base_uri": "https://localhost:8080/"
        },
        "id": "nQukJGYEpcLJ",
        "outputId": "fd6a34f0-5c38-434d-8d23-0367411cb026"
      },
      "execution_count": null,
      "outputs": [
        {
          "output_type": "stream",
          "name": "stdout",
          "text": [
            "Surip Sitohang\n"
          ]
        }
      ]
    },
    {
      "cell_type": "code",
      "source": [
        "#If the number of arguments is unknown, add a * before the parameter name:\n",
        "\n",
        "def my_function(*kids):\n",
        "  print(\"The youngest child is \" + kids[2])\n",
        "\n",
        "my_function(\"Lekyung\", \"Jimin\", \"Tukimin\")"
      ],
      "metadata": {
        "colab": {
          "base_uri": "https://localhost:8080/"
        },
        "id": "KmAzU1wnrGCa",
        "outputId": "fe38cbaa-a5f6-4e3e-9aa4-64c005ce5515"
      },
      "execution_count": null,
      "outputs": [
        {
          "output_type": "stream",
          "name": "stdout",
          "text": [
            "The youngest child is Tukimin\n"
          ]
        }
      ]
    },
    {
      "cell_type": "code",
      "source": [
        "def my_function(child3, child2, child1):\n",
        "  print(\"The youngest child is \" + child3)\n",
        "\n",
        "  my_function(child1 = \"Lekyung\", child2 = \"Tukimin\", child3 = \"Jimin\")"
      ],
      "metadata": {
        "id": "HOCtFlt1s-OQ"
      },
      "execution_count": null,
      "outputs": []
    },
    {
      "cell_type": "code",
      "source": [
        "#If the number of keyword arguments is unknown, add a double ** before the parameter\n",
        "def my_function(**kid):\n",
        "  print(\"His last name is \" + kid[\"lname\"])\n",
        "\n",
        "  my_function(fname = \"Thanos\", lname = \"ireng Man\")"
      ],
      "metadata": {
        "id": "5C0eG-bNtXii"
      },
      "execution_count": null,
      "outputs": []
    },
    {
      "cell_type": "code",
      "source": [
        "def my_function(country = \"Indonesia\"):\n",
        "  print(\"I am from \" + country)\n",
        "\n",
        "my_function(\"UEA\")\n",
        "my_function(\"Arab Saudi\")\n",
        "my_function()\n",
        "my_function(\"Malaysia\")"
      ],
      "metadata": {
        "colab": {
          "base_uri": "https://localhost:8080/"
        },
        "id": "wJbQSor1t7da",
        "outputId": "7e3a5682-cdf0-432d-a41d-27621f317b78"
      },
      "execution_count": null,
      "outputs": [
        {
          "output_type": "stream",
          "name": "stdout",
          "text": [
            "I am from UEA\n",
            "I am from Arab Saudi\n",
            "I am from Indonesia\n",
            "I am from Malaysia\n"
          ]
        }
      ]
    },
    {
      "cell_type": "code",
      "source": [
        "def my_function(food):\n",
        "  for x in food:\n",
        "    print(x)\n",
        "\n",
        "fruits = [\"apple\", \"banana\", \"cherry\"]\n",
        "\n",
        "my_function(fruits)"
      ],
      "metadata": {
        "colab": {
          "base_uri": "https://localhost:8080/"
        },
        "id": "7Ocq8YyvuqtF",
        "outputId": "68d8f5ab-9e18-4186-d0a2-ee87f57b275a"
      },
      "execution_count": null,
      "outputs": [
        {
          "output_type": "stream",
          "name": "stdout",
          "text": [
            "apple\n",
            "banana\n",
            "cherry\n"
          ]
        }
      ]
    },
    {
      "cell_type": "code",
      "source": [
        "def my_function(x):\n",
        "  return 5 * x\n",
        "\n",
        "print(my_function(3))\n",
        "print(my_function(5))\n",
        "print(my_function(9))"
      ],
      "metadata": {
        "colab": {
          "base_uri": "https://localhost:8080/"
        },
        "id": "iJ2Ffd2Xu8Pk",
        "outputId": "71907508-5859-4632-d506-6057f8f2ef7e"
      },
      "execution_count": null,
      "outputs": [
        {
          "output_type": "stream",
          "name": "stdout",
          "text": [
            "15\n",
            "25\n",
            "45\n"
          ]
        }
      ]
    },
    {
      "cell_type": "code",
      "source": [
        "def myfunction():\n",
        "  pass"
      ],
      "metadata": {
        "id": "Gj7ggfjsvLAk"
      },
      "execution_count": null,
      "outputs": []
    },
    {
      "cell_type": "code",
      "source": [
        "#Recursion Example\n",
        "def tri_recursion(k):\n",
        "  if(k > 0):\n",
        "    result = k + tri_recursion(k - 1)\n",
        "    print(result)\n",
        "  else:\n",
        "    result = 0\n",
        "  return result\n",
        "\n",
        "print(\"\\n\\nRecursion Example Results\")\n",
        "tri_recursion(6)"
      ],
      "metadata": {
        "colab": {
          "base_uri": "https://localhost:8080/"
        },
        "id": "Rggue7b-vPVk",
        "outputId": "c5daaf5c-627d-470a-f6b5-c7c2bd69db5b"
      },
      "execution_count": null,
      "outputs": [
        {
          "output_type": "stream",
          "name": "stdout",
          "text": [
            "\n",
            "\n",
            "Recursion Example Results\n",
            "1\n",
            "3\n",
            "6\n",
            "10\n",
            "15\n",
            "21\n"
          ]
        },
        {
          "output_type": "execute_result",
          "data": {
            "text/plain": [
              "21"
            ]
          },
          "metadata": {},
          "execution_count": 13
        }
      ]
    },
    {
      "cell_type": "code",
      "source": [
        "# Exercise 1\n",
        "print(\"Exercise 1\")\n",
        "print(\"Membuat program untuk menghitung nilai faktorial dari bilangan yang diinputkan dengan memanfaatkan fungsi rekrusif\")\n",
        "\n",
        "def faktorial(n):\n",
        "    if n == 0 or n == 1:\n",
        "        return 1\n",
        "    else:\n",
        "        return n * faktorial(n-1)\n",
        "\n",
        "bilangan = int(input(\"Masukkan bilangan: \"))\n",
        "print(\"Faktorial dari\", bilangan, \"adalah:\", faktorial(bilangan))"
      ],
      "metadata": {
        "colab": {
          "base_uri": "https://localhost:8080/"
        },
        "id": "YCPCatng0FlT",
        "outputId": "4706421b-b5a1-425e-cc1f-9e63133e67f3"
      },
      "execution_count": null,
      "outputs": [
        {
          "output_type": "stream",
          "name": "stdout",
          "text": [
            "Exercise 1\n",
            "Membuat program untuk menghitung nilai faktorial dari bilangan yang diinputkan dengan memanfaatkan fungsi rekrusif\n",
            "Masukkan bilangan: 21\n",
            "Faktorial dari 21 adalah: 51090942171709440000\n"
          ]
        }
      ]
    },
    {
      "cell_type": "code",
      "source": [
        "# Exercise 2\n",
        "print(\"Exercise 2\")\n",
        "print(\"Membuat program kalkulator untuk menghitung luas bangun datar lingkaran, persegi, dan segitiga\" + \"\\n\")\n",
        "\n",
        "def hitung_luas_lingkaran():\n",
        "    phi = 3.14\n",
        "    r = float(input(\"Masukkan jari-jari lingkaran: \"))\n",
        "    luas = phi * r * r\n",
        "    print(\"Luas lingkaran adalah: \", luas)\n",
        "\n",
        "def hitung_luas_persegi():\n",
        "    s = float(input(\"Masukkan sisi persegi: \"))\n",
        "    luas = s * s\n",
        "    print(\"Luas persegi adalah: \", luas)\n",
        "\n",
        "def hitung_luas_segitiga():\n",
        "    a = float(input(\"Masukkan alas segitiga: \"))\n",
        "    t = float(input(\"Masukkan tinggi segitiga: \"))\n",
        "    luas = 0.5 * a * t\n",
        "    print(\"Luas segitiga adalah: \", luas)\n",
        "\n",
        "def main():\n",
        "    while True:\n",
        "        print(\"Pilih perhitungan:\")\n",
        "        print(\"1. Luas Lingkaran\")\n",
        "        print(\"2. Luas Persegi\")\n",
        "        print(\"3. Luas Segitiga\")\n",
        "        print(\"4. Selesai\\n\")\n",
        "        pilihan = input(\"Masukkan pilihan: \\n\")\n",
        "        if pilihan == \"1\":\n",
        "            hitung_luas_lingkaran()\n",
        "        elif pilihan == \"2\":\n",
        "            hitung_luas_persegi()\n",
        "        elif pilihan == \"3\":\n",
        "            hitung_luas_segitiga()\n",
        "        elif pilihan == \"4\":\n",
        "            print(\"Terima kasih telah menggunakan program ini!\")\n",
        "            break\n",
        "        else:\n",
        "            print(\"Pilihan tidak valid. Silakan coba lagi.\")\n",
        "\n",
        "main()"
      ],
      "metadata": {
        "colab": {
          "base_uri": "https://localhost:8080/"
        },
        "id": "g_9peFqF0mih",
        "outputId": "1416ec99-67ad-44a0-8772-138dc3caa3a5"
      },
      "execution_count": null,
      "outputs": [
        {
          "output_type": "stream",
          "name": "stdout",
          "text": [
            "Exercise 2\n",
            "Membuat program kalkulator untuk menghitung luas bangun datar lingkaran, persegi, dan segitiga\n",
            "\n",
            "Pilih perhitungan:\n",
            "1. Luas Lingkaran\n",
            "2. Luas Persegi\n",
            "3. Luas Segitiga\n",
            "4. Selesai\n",
            "\n",
            "Masukkan pilihan: \n",
            "1\n",
            "Masukkan jari-jari lingkaran: 7\n",
            "Luas lingkaran adalah:  153.86\n",
            "Pilih perhitungan:\n",
            "1. Luas Lingkaran\n",
            "2. Luas Persegi\n",
            "3. Luas Segitiga\n",
            "4. Selesai\n",
            "\n",
            "Masukkan pilihan: \n",
            "2\n",
            "Masukkan sisi persegi: 4\n",
            "Luas persegi adalah:  16.0\n",
            "Pilih perhitungan:\n",
            "1. Luas Lingkaran\n",
            "2. Luas Persegi\n",
            "3. Luas Segitiga\n",
            "4. Selesai\n",
            "\n",
            "Masukkan pilihan: \n",
            "3\n",
            "Masukkan alas segitiga: 7\n",
            "Masukkan tinggi segitiga: 4\n",
            "Luas segitiga adalah:  14.0\n",
            "Pilih perhitungan:\n",
            "1. Luas Lingkaran\n",
            "2. Luas Persegi\n",
            "3. Luas Segitiga\n",
            "4. Selesai\n",
            "\n",
            "Masukkan pilihan: \n",
            "4\n",
            "Terima kasih telah menggunakan program ini!\n"
          ]
        }
      ]
    }
  ]
}