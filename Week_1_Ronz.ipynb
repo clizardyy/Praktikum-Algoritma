{
  "nbformat": 4,
  "nbformat_minor": 0,
  "metadata": {
    "colab": {
      "provenance": [],
      "authorship_tag": "ABX9TyN2SD3ysBkPzs7znv3V5COj",
      "include_colab_link": true
    },
    "kernelspec": {
      "name": "python3",
      "display_name": "Python 3"
    },
    "language_info": {
      "name": "python"
    }
  },
  "cells": [
    {
      "cell_type": "markdown",
      "metadata": {
        "id": "view-in-github",
        "colab_type": "text"
      },
      "source": [
        "<a href=\"https://colab.research.google.com/github/clizardyy/Praktikum-Algoritma/blob/master/Week_1_Ronz.ipynb\" target=\"_parent\"><img src=\"https://colab.research.google.com/assets/colab-badge.svg\" alt=\"Open In Colab\"/></a>"
      ]
    },
    {
      "cell_type": "code",
      "execution_count": null,
      "metadata": {
        "colab": {
          "base_uri": "https://localhost:8080/"
        },
        "id": "bl83-4ANSDBH",
        "outputId": "0b3daaf2-0351-44be-b823-ba2f18f4f07d"
      },
      "outputs": [
        {
          "output_type": "stream",
          "name": "stdout",
          "text": [
            "Hello, Python!\n"
          ]
        }
      ],
      "source": [
        "# Try your first Python output\n",
        "print(\"Hello, Python!\")"
      ]
    },
    {
      "cell_type": "code",
      "source": [
        "# Try to display \"Teknologi Informasi - Universitas Tidar\"\n",
        "print ('Universitas Tidar')"
      ],
      "metadata": {
        "colab": {
          "base_uri": "https://localhost:8080/"
        },
        "id": "4o0ee9s-T9EB",
        "outputId": "ee892f45-a71c-4726-9a42-6ee6dfc4423a"
      },
      "execution_count": null,
      "outputs": [
        {
          "output_type": "stream",
          "name": "stdout",
          "text": [
            "Universitas Tidar\n"
          ]
        }
      ]
    },
    {
      "cell_type": "code",
      "source": [
        "# Check the Python Version\n",
        "import sys\n",
        "print (sys.version)"
      ],
      "metadata": {
        "colab": {
          "base_uri": "https://localhost:8080/"
        },
        "id": "6E39ObR4U5RK",
        "outputId": "5628567d-52ff-45f4-cbcf-70b615f2198d"
      },
      "execution_count": null,
      "outputs": [
        {
          "output_type": "stream",
          "name": "stdout",
          "text": [
            "3.10.12 (main, Jul 29 2024, 16:56:48) [GCC 11.4.0]\n"
          ]
        }
      ]
    },
    {
      "cell_type": "code",
      "source": [
        "# Practice on writing comments\n",
        "\n",
        "print('Hello, Python!') # This line prints a string\n",
        "print('Hi') #untuk print Hi"
      ],
      "metadata": {
        "colab": {
          "base_uri": "https://localhost:8080/"
        },
        "id": "9_P8DkkRYWQp",
        "outputId": "e8e415ac-7f21-4200-8782-d762ea35dc68"
      },
      "execution_count": null,
      "outputs": [
        {
          "output_type": "stream",
          "name": "stdout",
          "text": [
            "Hello, Python!\n",
            "Hi\n"
          ]
        }
      ]
    },
    {
      "cell_type": "code",
      "source": [
        "# Print string as error message\n",
        "\n",
        "print(\"Hello, Python!\")"
      ],
      "metadata": {
        "colab": {
          "base_uri": "https://localhost:8080/"
        },
        "id": "YAQ15t3gYwAn",
        "outputId": "ca9ea772-8506-4271-d74c-8c973e38d955"
      },
      "execution_count": null,
      "outputs": [
        {
          "output_type": "stream",
          "name": "stdout",
          "text": [
            "Hello, Python!\n"
          ]
        }
      ]
    },
    {
      "cell_type": "code",
      "source": [
        "# Try to see build in error message\n",
        "\n",
        "print(\"Hello, Python!\")"
      ],
      "metadata": {
        "colab": {
          "base_uri": "https://localhost:8080/"
        },
        "id": "fkeBx8ikZ7q8",
        "outputId": "32171e25-e161-457f-95bd-035d44998ffb"
      },
      "execution_count": null,
      "outputs": [
        {
          "output_type": "stream",
          "name": "stdout",
          "text": [
            "Hello, Python!\n"
          ]
        }
      ]
    },
    {
      "cell_type": "code",
      "source": [
        "# Print string and error to see the running order\n",
        "\n",
        "print(\"This will be printed\")\n",
        "print(\"This will cause an error\")\n",
        "print(\"This will NOT be printed\")"
      ],
      "metadata": {
        "colab": {
          "base_uri": "https://localhost:8080/"
        },
        "id": "4nUVXykCaPfi",
        "outputId": "f07e699b-f5c1-4668-9801-e0d853f6ab68"
      },
      "execution_count": null,
      "outputs": [
        {
          "output_type": "stream",
          "name": "stdout",
          "text": [
            "This will be printed\n",
            "This will cause an error\n",
            "This will NOT be printed\n"
          ]
        }
      ]
    },
    {
      "cell_type": "code",
      "source": [
        "# Write your code below and press Shift+Enter to execute\n",
        "\n",
        "print(\"Nama             : Ronald Zuni Bachtiar\")\n",
        "print(\"NPM              : 2420506032\")\n",
        "print(\"Alamat           : Jl. Singosari 1097, Magelang, Jawa Tengah\")\n",
        "print(\"Tinggi Badan     : 171 cm\")\n",
        "print(\"Berat Badan      : 65 kg\")"
      ],
      "metadata": {
        "colab": {
          "base_uri": "https://localhost:8080/"
        },
        "id": "Jlk8gzq-bHKc",
        "outputId": "70c363f8-cccf-46f4-eaf5-c37ec09541d6"
      },
      "execution_count": null,
      "outputs": [
        {
          "output_type": "stream",
          "name": "stdout",
          "text": [
            "Nama             : Ronald Zuni Bachtiar\n",
            "NPM              : 2420506032\n",
            "Alamat           : Jl. Singosari 1097, Magelang, Jawa Tengah\n",
            "Tinggi Badan     : 171 cm\n",
            "Berat Badan      : 65 kg\n"
          ]
        }
      ]
    },
    {
      "cell_type": "code",
      "source": [
        "class color:\n",
        "  BOLD = '\\033[1m'\n",
        "  END = '\\033[0m'\n",
        "print(color.BOLD + \"UNIVERSITAS TIDAR\" + color.END)\n",
        "print(\"Universitas Tidar merupakan Perguruan Tinggi Pemerintah atau Perguruan Tinggi Negeri yang telah ditetapkan berdasarkan Peraturan Presiden Republik Indoneisa Nomor 23 Tahun 2014 pada tanggal 1 April 2014.\")\n",
        "print('\\n')\n",
        "print(color.BOLD + \"JURUSAN TEKNIK ELEKTRO, MEKATRONIKA DAN INFORMASI\" + color.END)\n",
        "print(\"Jurusan Teknik Elektro terditi atas tiga program studi, antara lain:\")\n",
        "print(\"   1. S1 Teknik Elektro \\033[3m(Bachelor of Electrical Engineering)\\033[0m\")\n",
        "print(\"   2. S1 Teknologi Informasi \\033[3m(Bachelor of Information Technology)\\033[0m\")\n",
        "print(\"   3. S1 Teknik Mekatronika \\033[3m(Bachelor of Mechatronics Engineering)\\033[0m\")"
      ],
      "metadata": {
        "colab": {
          "base_uri": "https://localhost:8080/"
        },
        "id": "mEQKS2ljdXlK",
        "outputId": "b4d61002-9762-4867-ddad-eb0c1444c2e7"
      },
      "execution_count": null,
      "outputs": [
        {
          "output_type": "stream",
          "name": "stdout",
          "text": [
            "\u001b[1mUNIVERSITAS TIDAR\u001b[0m\n",
            "Universitas Tidar merupakan Perguruan Tinggi Pemerintah atau Perguruan Tinggi Negeri yang telah ditetapkan berdasarkan Peraturan Presiden Republik Indoneisa Nomor 23 Tahun 2014 pada tanggal 1 April 2014.\n",
            "\n",
            "\n",
            "\u001b[1mJURUSAN TEKNIK ELEKTRO, MEKATRONIKA DAN INFORMASI\u001b[0m\n",
            "Jurusan Teknik Elektro terditi atas tiga program studi, antara lain:\n",
            "   1. S1 Teknik Elektro \u001b[3m(Bachelor of Electrical Engineering)\u001b[0m\n",
            "   2. S1 Teknologi Informasi \u001b[3m(Bachelor of Information Technology)\u001b[0m\n",
            "   3. S1 Teknik Mekatronika \u001b[3m(Bachelor of Mechatronics Engineering)\u001b[0m\n"
          ]
        }
      ]
    }
  ]
}